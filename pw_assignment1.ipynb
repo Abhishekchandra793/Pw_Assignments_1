{
 "cells": [
  {
   "cell_type": "code",
   "execution_count": 1,
   "metadata": {},
   "outputs": [
    {
     "name": "stdout",
     "output_type": "stream",
     "text": [
      "Entre a string pwskills\n"
     ]
    },
    {
     "name": "stdout",
     "output_type": "stream",
     "text": [
      "YOUR REVERSED STRING IS: sllikswp\n"
     ]
    }
   ],
   "source": [
    "#ques1- \"Write a code to reverse a string\"\n",
    "\n",
    "user_string=input(\"Entre a string\") #this will take input from user \n",
    "\n",
    "rev_string=user_string[::-1] #this will convert user string into reversed string\n",
    "\n",
    "print(\"YOUR REVERSED STRING IS:\",rev_string)"
   ]
  },
  {
   "cell_type": "code",
   "execution_count": 2,
   "metadata": {},
   "outputs": [
    {
     "name": "stdout",
     "output_type": "stream",
     "text": [
      "Entre a string assignment\n"
     ]
    },
    {
     "name": "stdout",
     "output_type": "stream",
     "text": [
      "No. of Vowels in string are: 3\n"
     ]
    }
   ],
   "source": [
    "# ques2- \"Write a code to count the number of vowels in a string\"\n",
    "\n",
    "user_vowel=input(\"Entre a string\") #this will take input from user\n",
    "\n",
    "vowels=\"aeiouAEIOU\"  #this will difine what is vowels in both lower case and upper case\n",
    "\n",
    "vowel=0\n",
    "for char in user_vowel:      \n",
    "    if char in vowels:\n",
    "        vowel+=1\n",
    "\n",
    "print(\"No. of Vowels in string are:\",vowel)"
   ]
  },
  {
   "cell_type": "code",
   "execution_count": 3,
   "metadata": {},
   "outputs": [
    {
     "name": "stdout",
     "output_type": "stream",
     "text": [
      "Entre your String madam\n"
     ]
    },
    {
     "name": "stdout",
     "output_type": "stream",
     "text": [
      "This string is palindrome\n"
     ]
    }
   ],
   "source": [
    "# ques3- \"Write a code to check if a given string is a palindrome or not\"\n",
    "\n",
    "user_string=input(\"Entre your String\")\n",
    "\n",
    "convert_string=user_string.replace(\" \",\"\").lower() # this will remove all space in string and convert in lowercase.\n",
    " \n",
    "if convert_string==convert_string[::-1]:\n",
    "    print(\"This string is palindrome\")\n",
    "\n",
    "else:\n",
    "    print(\"This string is not palindrome\")\n",
    "\n"
   ]
  },
  {
   "cell_type": "code",
   "execution_count": 4,
   "metadata": {},
   "outputs": [
    {
     "name": "stdout",
     "output_type": "stream",
     "text": [
      "Entre the 1st string listen\n",
      "Entre the 2nd string silent\n"
     ]
    },
    {
     "name": "stdout",
     "output_type": "stream",
     "text": [
      "This string are anagram of each other\n"
     ]
    }
   ],
   "source": [
    " # ques4- \"Write a code to check if two given strings are anagrams of each other\"\n",
    "\n",
    "\n",
    "string1=input(\"Entre the 1st string\")\n",
    "string2=input(\"Entre the 2nd string\")\n",
    "\n",
    "if sorted(string1.lower())==sorted(string2.lower()): #sorted is use for arranging the string in alphabetical order.\n",
    "    print(\"This string are anagram of each other\")\n",
    "\n",
    "else:\n",
    "    print(\"This String are not anagram of each other\")"
   ]
  },
  {
   "cell_type": "code",
   "execution_count": null,
   "metadata": {},
   "outputs": [
    {
     "name": "stdout",
     "output_type": "stream",
     "text": [
      "Entre the main String:   this is a test ,and this is another test.\n",
      "Entre the Substring to find:  test\n"
     ]
    },
    {
     "name": "stdout",
     "output_type": "stream",
     "text": [
      "The Substring 'test' is found at [11, 37]\n"
     ]
    }
   ],
   "source": [
    "# ques5- \"Write a code to find all occurrences of a given substring within another string\"\n",
    "\n",
    "main_str=input(\"Entre the main String: \")\n",
    "sub_str=input(\"Entre the Substring to find: \")\n",
    "\n",
    "occurrences=[i for i in range(len(main_str)) if main_str.startswith(sub_str,i)] #this will check if sub_str start at the index i in the main_str\n",
    "\n",
    "if occurrences:\n",
    "    print(f\"The Substring '{sub_str}' is found at {occurrences}\")\n",
    "\n",
    "else:\n",
    "    print(f\"The substring '{sub_str}' is not found in the main string\")\n"
   ]
  },
  {
   "cell_type": "code",
   "execution_count": 1,
   "metadata": {},
   "outputs": [
    {
     "name": "stdout",
     "output_type": "stream",
     "text": [
      "Entre your string aabbbccbbb\n"
     ]
    },
    {
     "name": "stdout",
     "output_type": "stream",
     "text": [
      "Compressed string:  a2b3c2b3\n"
     ]
    }
   ],
   "source": [
    "# ques6-\"Write a code to perform basic string compression using the counts of repeated characters\"\n",
    "\n",
    "input_str=input(\"Entre your string\")\n",
    "\n",
    "compressed=\"\"\n",
    "count=1\n",
    "\n",
    "for i in range(1, len(input_str)):\n",
    "    if input_str[i]==input_str[i-1]:\n",
    "        count +=1\n",
    "\n",
    "    else:\n",
    "        compressed += input_str[i-1] +str(count)\n",
    "        count =1 \n",
    "\n",
    "compressed += input_str[-1] + str(count)\n",
    "\n",
    "print(\"Compressed string: \", compressed)\n"
   ]
  },
  {
   "cell_type": "code",
   "execution_count": 2,
   "metadata": {},
   "outputs": [
    {
     "name": "stdout",
     "output_type": "stream",
     "text": [
      "Enter a string:  hello world\n"
     ]
    },
    {
     "name": "stdout",
     "output_type": "stream",
     "text": [
      "The string does not have all unique characters.\n"
     ]
    }
   ],
   "source": [
    "# ques7- \"Write a code to determine if a string has all unique characters\"\n",
    "\n",
    "def has_unique_characters(string): #def is use for set to store characters\n",
    "     \n",
    "    unique_chars = set()\n",
    "\n",
    "    \n",
    "    for char in string:\n",
    "        if char in unique_chars:\n",
    "            return False              # helps to find Duplicate\n",
    "        unique_chars.add(char)\n",
    "\n",
    "    return True  \n",
    "\n",
    "\n",
    "\n",
    "input_string = input(\"Enter a string: \")\n",
    "\n",
    "\n",
    "if has_unique_characters(input_string):\n",
    "    print(\"The string has all unique characters.\")\n",
    "else:\n",
    "    print(\"The string does not have all unique characters.\")\n"
   ]
  },
  {
   "cell_type": "code",
   "execution_count": 3,
   "metadata": {},
   "outputs": [
    {
     "name": "stdout",
     "output_type": "stream",
     "text": [
      "Entre a string pwskills\n",
      "Type 'U' to convert to uppercase or 'L' to convert to lowercase:  u\n"
     ]
    },
    {
     "name": "stdout",
     "output_type": "stream",
     "text": [
      "Uppercase string: PWSKILLS\n"
     ]
    }
   ],
   "source": [
    "# ques8- \"Write a code to convert a given string to uppercase or lowercase\"\n",
    "\n",
    "input_str= input(\"Entre a string\")\n",
    "\n",
    "choice=input(\"Type 'U' to convert to uppercase or 'L' to convert to lowercase: \").strip().upper()\n",
    "\n",
    "if choice == 'U':\n",
    "    converted_string = input_str.upper()\n",
    "    print(\"Uppercase string:\", converted_string)\n",
    "\n",
    "elif choice == 'L':\n",
    "    converted_string = input_str.lower()\n",
    "    print(\"Lowercase string:\", converted_string)\n",
    "\n",
    "else:\n",
    "    print(\"Invalid choice! Please type 'U' or 'L'.\")"
   ]
  },
  {
   "cell_type": "code",
   "execution_count": 2,
   "metadata": {},
   "outputs": [
    {
     "name": "stdout",
     "output_type": "stream",
     "text": [
      "The total no. of words in string are: 5\n"
     ]
    }
   ],
   "source": [
    "# ques9-\"Write a code to count the number of words in a string\"\n",
    "\n",
    "input_words=input(\"Entre the String: \")\n",
    "\n",
    "\n",
    "words=input_words.split()  #this will split string into words\n",
    "\n",
    "\n",
    "words_count=len(words) #this will count the words\n",
    "\n",
    "\n",
    "print(f\"The total no. of words in string are: {words_count}\")\n"
   ]
  },
  {
   "cell_type": "code",
   "execution_count": null,
   "metadata": {},
   "outputs": [
    {
     "name": "stdout",
     "output_type": "stream",
     "text": [
      "The concatenate string is : this is test and test is successfull\n"
     ]
    }
   ],
   "source": [
    "# ques10- \"Write a code to concatenate two strings without using the + operator\"\n",
    "\n",
    "string1=input(\"Entre your 1st string: \")\n",
    "\n",
    "string2=input(\"Entre your 2nd string: \")\n",
    "\n",
    "\n",
    "concatenate_str=\"\".join([string1,string2]) #is will concatenate the two string using join\n",
    "\n",
    "print(f\"The concatenate string is : {concatenate_str}\")"
   ]
  },
  {
   "cell_type": "code",
   "execution_count": 8,
   "metadata": {},
   "outputs": [
    {
     "name": "stdout",
     "output_type": "stream",
     "text": [
      "List after removal: [1, 2, 3, 4, 5, 6, 8, 9]\n"
     ]
    }
   ],
   "source": [
    "#ques11-\" Write a code to remove all occurrences of a specific element from a list\"\n",
    "\n",
    "\n",
    "input_list = [1,2,3,4,5,6,7,8,9]\n",
    "element_to_remove = 7\n",
    "\n",
    "result_list = [x for x in input_list if x != element_to_remove] #Remove all occurrences of the element\n",
    "\n",
    "print(\"List after removal:\", result_list)\n"
   ]
  },
  {
   "cell_type": "code",
   "execution_count": null,
   "metadata": {},
   "outputs": [
    {
     "name": "stdout",
     "output_type": "stream",
     "text": [
      "The second largest number is: 56\n"
     ]
    }
   ],
   "source": [
    "#ques12- \"Implement a code to find the second largest number in a given list of integers\"\n",
    "\n",
    "numbers = [1,2,9,8,7,6,5,43,56,78,44,]\n",
    "\n",
    "\n",
    "largest = second_largest = float('-inf')     # Find the largest and second largest numbers\n",
    "for num in numbers:\n",
    "    if num > largest:\n",
    "        second_largest = largest\n",
    "        largest = num\n",
    "    elif num > second_largest and num != largest:\n",
    "        second_largest = num\n",
    "\n",
    "\n",
    "if second_largest == float('-inf'):\n",
    "    print(\"The list must have at least two distinct numbers.\")\n",
    "else:\n",
    "    print(\"The second largest number is:\", second_largest)\n"
   ]
  },
  {
   "cell_type": "code",
   "execution_count": 1,
   "metadata": {},
   "outputs": [
    {
     "name": "stdout",
     "output_type": "stream",
     "text": [
      "Element counts: {'apple': 2, 'banana': 2, 'orange': 1, 'kiwi': 2}\n"
     ]
    }
   ],
   "source": [
    "#ques13- # \"Find the largest and second largest numbers\"\n",
    "\n",
    "input_list = [\"apple\",\"banana\",\"orange\",\"kiwi\",\"apple\",\"banana\",\"kiwi\"]\n",
    "\n",
    "count_dict = {}                                     # Create a dictionary to store the counts\n",
    "\n",
    "\n",
    "for element in input_list:\n",
    "    \n",
    "    if element in count_dict:                       # this will increment the count if the element exists in the dictionary\n",
    "        count_dict[element] += 1\n",
    "    else:\n",
    "        count_dict[element] = 1                     # Add the element to the dictionary with a count of 1\n",
    "        \n",
    "\n",
    "\n",
    "print(\"Element counts:\", count_dict)\n"
   ]
  },
  {
   "cell_type": "code",
   "execution_count": 3,
   "metadata": {},
   "outputs": [
    {
     "name": "stdout",
     "output_type": "stream",
     "text": [
      "Reversed list: [95, 88, 7, 34, 5, 6, 35, 2, 1]\n"
     ]
    }
   ],
   "source": [
    "#ques14- \" Write a code to reverse a list in-place without using any built-in reverse functions\"\n",
    "\n",
    "\n",
    "numbers = [1,2,35,6,5,34,7,88,95]\n",
    "\n",
    "n = len(numbers)           # Reverse the list in-place\n",
    "for i in range(n // 2):\n",
    "    # Swap the elements\n",
    "    numbers[i], numbers[n - i - 1] = numbers[n - i - 1], numbers[i]\n",
    "\n",
    "print(\"Reversed list:\", numbers)\n",
    "\n",
    "\n",
    "\n",
    "\n"
   ]
  },
  {
   "cell_type": "code",
   "execution_count": 1,
   "metadata": {},
   "outputs": [
    {
     "name": "stdout",
     "output_type": "stream",
     "text": [
      "Filtered List: [1, 2, 3, 4, 5]\n"
     ]
    }
   ],
   "source": [
    "#ques15-\" Implement a code to find and remove duplicates from a list while preserving the original order of elements\"\n",
    "\n",
    "\n",
    "def remove_duplicates(input_list):     \n",
    "    result = []                     # creates an empty list where unique elements will be stored.\n",
    "    for item in input_list:\n",
    "        if item not in result:\n",
    "            result.append(item)     # If the item is not in result, it is added to result.\n",
    "    return result\n",
    "\n",
    "original_list = [1, 2, 2, 3, 4, 3, 5, 1]\n",
    "filtered_list = remove_duplicates(original_list)\n",
    "print(\"Filtered List:\", filtered_list)\n",
    "\n"
   ]
  },
  {
   "cell_type": "code",
   "execution_count": 20,
   "metadata": {},
   "outputs": [
    {
     "name": "stdout",
     "output_type": "stream",
     "text": [
      "The list is in descending order\n"
     ]
    }
   ],
   "source": [
    "# ques16- \"Create a code to check if a given list is sorted (either in ascending or descending order) or not\"\n",
    "\n",
    "\n",
    "def is_sorted(input):\n",
    "    if input==sorted(input):                   # this will returns the list sorted in ascending order\n",
    "        return(\"The list is in ascending order\")\n",
    "\n",
    "    elif input==sorted(input,reverse=True):   # this will returns the list sorted in descending order\n",
    "        return(\"The list is in descending order\")\n",
    "\n",
    "    else:\n",
    "        return(\"The list is not sorted.\")\n",
    "\n",
    "\n",
    "mylist=[98,97,80,76,43,2,1]\n",
    "\n",
    "print(is_sorted(mylist))\n",
    "\n",
    "\n"
   ]
  },
  {
   "cell_type": "code",
   "execution_count": null,
   "metadata": {},
   "outputs": [
    {
     "name": "stdout",
     "output_type": "stream",
     "text": [
      "Merge sorted list[98, 76, 74, 54, 34, 23, 9, 7, 6, 6, 5, 3, 1]\n"
     ]
    }
   ],
   "source": [
    "#ques17-\"Write a code to merge two sorted lists into a single sorted list\"\n",
    "\n",
    "def merge_sorted_list(list1,list2):\n",
    "    return(sorted(list1+list2)) #combines the two lists into a single list\n",
    "\n",
    "list1=[98,6,74,34,6,76,54,23]\n",
    "list2=[9,7,5,3,1]\n",
    "\n",
    "result=merge_sorted_list(list1,list2)\n",
    "\n",
    "print(f\"Merge sorted list{result}\")\n"
   ]
  },
  {
   "cell_type": "code",
   "execution_count": null,
   "metadata": {},
   "outputs": [
    {
     "name": "stdout",
     "output_type": "stream",
     "text": [
      "Intersection: [3, 4]\n"
     ]
    }
   ],
   "source": [
    "# ques18-\"Implement a code to find the intersection of two given lists\"\n",
    "\n",
    "def find_intersection(list1,list2):\n",
    "    return [item for item in list1 if item in list2] # this will ensures that only elements common to both lists are added to the result.\n",
    "\n",
    "\n",
    "list1=[1,2,3,4]\n",
    "list2=[3,4,5,6]\n",
    "\n",
    "print(f\"Intersection: {find_intersection(list1,list2)}\")"
   ]
  },
  {
   "cell_type": "code",
   "execution_count": null,
   "metadata": {},
   "outputs": [
    {
     "name": "stdout",
     "output_type": "stream",
     "text": [
      "Union without duplicate: [1, 2, 3, 4, 5, 6]\n"
     ]
    }
   ],
   "source": [
    "#ques19-\"Create a code to find the union of two lists without duplicates\"\n",
    "\n",
    "del list   #this is for reseting my list fuction\n",
    "\n",
    "def find_union(list1,list2):\n",
    "    return list(set(list1+list2)) #set()remove any dulicates and list() convert back in list\n",
    "\n",
    "\n",
    "list1=[1,2,3,4]\n",
    "list2=[3,4,5,6]\n",
    "\n",
    "result=find_union(list1,list2)\n",
    "\n",
    "print(f\"Union without duplicate: {result}\")\n",
    "\n"
   ]
  },
  {
   "cell_type": "code",
   "execution_count": null,
   "metadata": {},
   "outputs": [
    {
     "name": "stdout",
     "output_type": "stream",
     "text": [
      "Shuffled List: [5, 2, 4, 1, 3]\n"
     ]
    }
   ],
   "source": [
    "#ques20-\"Write a code to shuffle a given list randomly without using any built-in shuffle functions\"\n",
    "\n",
    "import random         #import random fuction\n",
    "\n",
    "def shuffle_list(lst):\n",
    "    for i in range(len(lst)):\n",
    "        random_index = random.randint(0, len(lst) - 1)         # Generate a random index\n",
    "        lst[i], lst[random_index] = lst[random_index], lst[i]  # Swap the elements\n",
    "    return lst\n",
    "\n",
    "# Example usage\n",
    "my_list = [1, 2, 3, 4, 5]\n",
    "print(\"Shuffled List:\", shuffle_list(my_list))\n"
   ]
  },
  {
   "cell_type": "code",
   "execution_count": 3,
   "metadata": {},
   "outputs": [
    {
     "name": "stdout",
     "output_type": "stream",
     "text": [
      "Common elements: (3, 4)\n"
     ]
    }
   ],
   "source": [
    "# ques21-\"Write a code that takes two tuples as input and returns a new tuple containing elements that are common to both input tuples\"\n",
    "\n",
    "def common_elements(tuple1, tuple2):\n",
    "    \n",
    "    return tuple(item for item in tuple1 if item in tuple2)     # Check if the element also exists in tuple2\n",
    "    \n",
    "\n",
    "tuple1 = (1, 2, 3, 4)  \n",
    "tuple2 = (3, 4, 5, 6)  \n",
    "\n",
    "\n",
    "result = common_elements(tuple1, tuple2)\n",
    "\n",
    "print(\"Common elements:\", result)  \n",
    "    \n",
    "\n",
    "\n",
    "\n"
   ]
  },
  {
   "cell_type": "code",
   "execution_count": 4,
   "metadata": {},
   "outputs": [
    {
     "name": "stdout",
     "output_type": "stream",
     "text": [
      "Intersection of the two sets: {4, 5}\n"
     ]
    }
   ],
   "source": [
    "#ques22-\"Create a code that prompts the user to enter two sets of integers separated by commas. Then, print the\n",
    "# intersection of these two sets\"\n",
    "\n",
    "set1_input = input(\"Enter the first set of integers, separated by commas: \")\n",
    "\n",
    "set2_input = input(\"Enter the second set of integers, separated by commas: \")\n",
    "\n",
    "# this will split the input by commas, use map() to convert each value to an integer, and wrap in set()\n",
    "set1 = set(map(int, set1_input.split(',')))\n",
    "set2 = set(map(int, set2_input.split(',')))\n",
    "\n",
    "intersection = set1 & set2   # Find the intersection of the two sets using the '&' operator\n",
    "\n",
    "\n",
    "# Print the result\n",
    "print(f\"Intersection of the two sets: {intersection}\")\n"
   ]
  },
  {
   "cell_type": "code",
   "execution_count": null,
   "metadata": {},
   "outputs": [
    {
     "name": "stdout",
     "output_type": "stream",
     "text": [
      "Concatenated tuples: (1, 2, 3, 4, 3, 4, 5, 6, 7)\n"
     ]
    }
   ],
   "source": [
    "# ques23-\" Write a code to concatenate two tuples. The function should take two tuples as input and return a new\n",
    "# tuple containing elements from both input tuples\"\n",
    "\n",
    "def concatenate_tuples(t1,t2):\n",
    "    return t1+t2          # Use the `+` operator to concatenate the tuples\n",
    "\n",
    "t1=(1,2,3,4)\n",
    "t2=(3,4,5,6,7)\n",
    "\n",
    "result= concatenate_tuples(t1,t2)\n",
    "\n",
    "print(f\"Concatenated tuples: {result}\")"
   ]
  },
  {
   "cell_type": "code",
   "execution_count": 6,
   "metadata": {},
   "outputs": [
    {
     "name": "stdout",
     "output_type": "stream",
     "text": [
      "Elements in the first set but not in the second set: {'3', '2', '1'}\n"
     ]
    }
   ],
   "source": [
    "#ques24-\" Develop a code that prompts the user to input two sets of strings. Then, print the elements that are\n",
    "# present in the first set but not in the second set\"\n",
    "\n",
    "set1=input(\"Enter the first set of strings, separated by commas: \")\n",
    "\n",
    "set2=input(\"Enter the second set of strings, separated by commas: \")\n",
    "\n",
    "set1 = set(set1_input.split(','))    # Split by commas and convert to a set\n",
    "set2 = set(set2_input.split(','))  \n",
    "\n",
    "difference = set1 - set2\n",
    "\n",
    "print(f\"Elements in the first set but not in the second set: {difference}\")"
   ]
  },
  {
   "cell_type": "code",
   "execution_count": 8,
   "metadata": {},
   "outputs": [
    {
     "name": "stdout",
     "output_type": "stream",
     "text": [
      "Sliced Tuple: (30, 40, 50)\n"
     ]
    }
   ],
   "source": [
    "# ques25-\"Create a code that takes a tuple and two integers as input. The function should return a new tuple\n",
    "# containing elements from the original tuple within the specified range of indices\"\n",
    "\n",
    "def slice_tuple(tup, start_index, end_index):\n",
    "    # Slice the tuple using the start and end indices and return the result\n",
    "    return tup[start_index:end_index]\n",
    "\n",
    "tup = (10, 20, 30, 40, 50, 60)\n",
    "start_index = int(input(\"Enter the start index: \"))\n",
    "end_index = int(input(\"Enter the end index: \"))\n",
    "\n",
    "result = slice_tuple(tup, start_index, end_index)\n",
    "print(\"Sliced Tuple:\", result)\n"
   ]
  },
  {
   "cell_type": "code",
   "execution_count": 1,
   "metadata": {},
   "outputs": [
    {
     "name": "stdout",
     "output_type": "stream",
     "text": [
      "The union of the two sets is: {'2', '5', '4', '1', '3', ','}\n"
     ]
    }
   ],
   "source": [
    "# ques26-\"Write a code that prompts the user to input two sets of characters. Then, print the union of these two sets\"\n",
    "\n",
    "set1 = set(input(\"Enter the first set of characters: \"))\n",
    "\n",
    "set2 = set(input(\"Enter the second set of characters: \"))\n",
    "\n",
    "union_set = set1.union(set2) #this will calculate the union of the two sets\n",
    "\n",
    "print(\"The union of the two sets is:\", union_set)"
   ]
  },
  {
   "cell_type": "code",
   "execution_count": null,
   "metadata": {},
   "outputs": [],
   "source": [
    "# ques27-\"Develop a code that takes a tuple of integers as input. The function should return the maximum and\n",
    "# minimum values from the tuple using tuple unpacking  in simple \"\n",
    "\n",
    "def find_max_min(numbers):\n",
    "  \n",
    "    return max(numbers), min(numbers)\n",
    "\n",
    "# Example usage\n",
    "input_tuple = tuple(map(int, input(\"Enter integers separated by spaces: \").split()))\n",
    "maximum, minimum = find_max_min(input_tuple)\n",
    "\n",
    "print(f\"Maximum value: {maximum}\")\n",
    "print(f\"Minimum value: {minimum}\")\n"
   ]
  },
  {
   "cell_type": "code",
   "execution_count": null,
   "metadata": {},
   "outputs": [
    {
     "name": "stdout",
     "output_type": "stream",
     "text": [
      "Union:  {1, 2, 3, 4, 5, 6, 7, 8}\n",
      "Intersection:  {4, 5}\n",
      "Difference:  {1, 2, 3}\n"
     ]
    }
   ],
   "source": [
    "# ques28-\"Create a code that defines two sets of integers. Then, print the union, intersection, and difference of these\n",
    "# two sets\"\n",
    "\n",
    "set1 = {1, 2, 3, 4, 5}\n",
    "set2 = {4, 5, 6, 7, 8}\n",
    "print(\"Union: \", set1.union(set2))     \n",
    "print(\"Intersection: \", set1.intersection(set2)) \n",
    "print(\"Difference: \", set1.difference(set2))  \n",
    "\n"
   ]
  },
  {
   "cell_type": "code",
   "execution_count": null,
   "metadata": {},
   "outputs": [],
   "source": [
    "#ques29-\"Write a code that takes a tuple and an element as input. The function should return the count of\n",
    "# occurrences of the given element in the tuple\"\n",
    "\n",
    "\n",
    "def count_occurrences(input_tuple, element):       #input_tuple (tuple): The input tuple to search in. \n",
    "    return input_tuple.count(element)              #element: The element to count.\n",
    "    \n",
    "                                                \n",
    "my_tuple = (1, 2, 3, 2, 4, 2, 5)\n",
    "element_to_count = 2\n",
    "\n",
    "result = count_occurrences(my_tuple, element_to_count)\n",
    "print(f\"The element {element_to_count} appears {result} times in the tuple.\")\n",
    "    \n",
    "\n",
    "\n",
    "\n",
    "\n",
    "\n"
   ]
  },
  {
   "cell_type": "code",
   "execution_count": null,
   "metadata": {},
   "outputs": [
    {
     "name": "stdout",
     "output_type": "stream",
     "text": [
      "The symmetric difference of the two sets is: {'orange', 'cherry', 'apple'}\n"
     ]
    }
   ],
   "source": [
    "#ques30- \"Develop a code that prompts the user to input two sets of strings. Then, print the symmetric difference of\n",
    "# these two sets\"\n",
    "\n",
    "\n",
    "set1 = set(input(\"Enter the first set of strings: \").split())\n",
    "set2 = set(input(\"Enter the second set of strings: \").split())\n",
    "\n",
    "symmetric_difference = set1.symmetric_difference(set2) # Calculate the symmetric difference of the two sets\n",
    "\n",
    "print(\"The symmetric difference of the two sets is:\", symmetric_difference)\n"
   ]
  },
  {
   "cell_type": "code",
   "execution_count": 3,
   "metadata": {},
   "outputs": [
    {
     "name": "stdout",
     "output_type": "stream",
     "text": [
      "Word frequencies: {'apple': 2, 'banana': 2, 'cherry': 1, 'date': 1}\n"
     ]
    }
   ],
   "source": [
    "# ques31 \"Write a code that takes a list of words as input and returns a dictionary where the keys are unique words\n",
    "# and the values are the frequencies of those words in the input list\"\n",
    "\n",
    "def word_frequency(word_list):\n",
    "    frequency_dict = {}                # Create an empty dictionary to store word frequencies\n",
    "    \n",
    "    for word in word_list:\n",
    "        # If the word is already in the dictionary, increment its count\n",
    "        # If not, add it to the dictionary with a count of 1\n",
    "        frequency_dict[word] = frequency_dict.get(word, 0) + 1\n",
    "    \n",
    "    return frequency_dict\n",
    "\n",
    "input_words = input(\"Enter a list of words separated by spaces: \").split()\n",
    "result = word_frequency(input_words)\n",
    "print(\"Word frequencies:\", result)\n"
   ]
  },
  {
   "cell_type": "code",
   "execution_count": 4,
   "metadata": {},
   "outputs": [
    {
     "name": "stdout",
     "output_type": "stream",
     "text": [
      "Merged dictionary: {'a': 1, 'b': 5, 'c': 7, 'd': 5}\n"
     ]
    }
   ],
   "source": [
    "# ques32-\"Write a code that takes two dictionaries as input and merges them into a single dictionary. If there are\n",
    "# common keys, the values should be added together\"\n",
    "\n",
    "def merge_dictionaries(dict1, dict2):\n",
    "    merged_dict = dict1.copy()            # Create a new dictionary with all items from dict1\n",
    "    \n",
    "    # Iterate through items in dict2\n",
    "    for key, value in dict2.items():      #if key is not in dict1, add it to dict1\n",
    "        merged_dict[key] = merged_dict.get(key, 0) + value  \n",
    "    \n",
    "    return merged_dict\n",
    "\n",
    "dict1 = {'a': 1, 'b': 2, 'c': 3}\n",
    "dict2 = {'b': 3, 'c': 4, 'd': 5}\n",
    "\n",
    "result = merge_dictionaries(dict1, dict2)\n",
    "print(\"Merged dictionary:\", result)\n",
    "\n"
   ]
  },
  {
   "cell_type": "code",
   "execution_count": null,
   "metadata": {},
   "outputs": [],
   "source": [
    "'''ques33-\"Write a code to access a value in a nested dictionary. The function should take the dictionary and a list of\n",
    "keys as input, and return the corresponding value. If any of the keys do not exist in the dictionary, the\n",
    "function should return None'''\n",
    "\n"
   ]
  },
  {
   "cell_type": "code",
   "execution_count": 6,
   "metadata": {},
   "outputs": [
    {
     "name": "stdout",
     "output_type": "stream",
     "text": [
      "Sorted in ascending order: {'date': 1, 'banana': 2, 'elderberry': 3, 'apple': 5, 'cherry': 8}\n",
      "Sorted in descending order: {'cherry': 8, 'apple': 5, 'elderberry': 3, 'banana': 2, 'date': 1}\n"
     ]
    }
   ],
   "source": [
    "# ques34-\"Write a code that takes a dictionary as input and returns a sorted version of it based on the values. You\n",
    "# can choose whether to sort in ascending or descending order\"\n",
    "\n",
    "\n",
    "def sort_dictionary_by_values(input_dict, descending=False):\n",
    "    # Sort the dictionary items based on values\n",
    "    sorted_items = sorted(input_dict.items(), key=lambda x: x[1], reverse=descending)\n",
    "    \n",
    "    sorted_dict = dict(sorted_items)  # Convert the sorted items back into a dictionary\n",
    "    \n",
    "    return sorted_dict\n",
    "\n",
    "\n",
    "sample_dict = {'apple': 5, 'banana': 2, 'cherry': 8, 'date': 1, 'elderberry': 3}\n",
    "\n",
    "\n",
    "ascending_result = sort_dictionary_by_values(sample_dict)\n",
    "print(\"Sorted in ascending order:\", ascending_result)\n",
    "\n",
    "\n",
    "descending_result = sort_dictionary_by_values(sample_dict, descending=True)\n",
    "print(\"Sorted in descending order:\", descending_result)\n",
    "\n",
    "    \n"
   ]
  },
  {
   "cell_type": "code",
   "execution_count": 7,
   "metadata": {},
   "outputs": [
    {
     "name": "stdout",
     "output_type": "stream",
     "text": [
      "Inverted dictionary: {1: ['a', 'e'], 2: ['b', 'd'], 3: 'c'}\n"
     ]
    }
   ],
   "source": [
    "''' ques35-\"Write a code that inverts a dictionary, swapping keys and values. Ensure that the inverted dictionary\n",
    "correctly handles cases where multiple keys have the same value by storing the keys as a list in the\n",
    "inverted dictionary.\"'''\n",
    "\n",
    "def invert_dictionary(input_dict):\n",
    "    inverted_dict = {}\n",
    "    \n",
    "    for key, value in input_dict.items():\n",
    "        if value in inverted_dict:\n",
    "            # If the value already exists as a key, append the original key to the list\n",
    "            if isinstance(inverted_dict[value], list):\n",
    "                inverted_dict[value].append(key)\n",
    "            else:\n",
    "                inverted_dict[value] = [inverted_dict[value], key]\n",
    "        else:\n",
    "            # If it's a new value, add it as a key with the original key as its value\n",
    "            inverted_dict[value] = key\n",
    "    \n",
    "    return inverted_dict\n",
    "\n",
    "original_dict = {'a': 1, 'b': 2, 'c': 3, 'd': 2, 'e': 1}\n",
    "inverted = invert_dictionary(original_dict)\n",
    "print(\"Inverted dictionary:\", inverted)\n",
    "\n"
   ]
  }
 ],
 "metadata": {
  "kernelspec": {
   "display_name": "env",
   "language": "python",
   "name": "python3"
  },
  "language_info": {
   "codemirror_mode": {
    "name": "ipython",
    "version": 3
   },
   "file_extension": ".py",
   "mimetype": "text/x-python",
   "name": "python",
   "nbconvert_exporter": "python",
   "pygments_lexer": "ipython3",
   "version": "3.12.3"
  }
 },
 "nbformat": 4,
 "nbformat_minor": 4
}
