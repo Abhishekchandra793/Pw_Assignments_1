{
 "cells": [
  {
   "cell_type": "markdown",
   "metadata": {},
   "source": [
    "Assignment= \"Numpy\""
   ]
  },
  {
   "cell_type": "code",
   "execution_count": 7,
   "metadata": {},
   "outputs": [
    {
     "data": {
      "text/plain": [
       "array([0, 1, 2, 3, 4, 5])"
      ]
     },
     "execution_count": 7,
     "metadata": {},
     "output_type": "execute_result"
    }
   ],
   "source": [
    "#ques1-\" Create a NumPy array 'arr' of integers from 0 to 5 and print its data type.\"\"\n",
    "\n",
    "import numpy as np\n",
    "\n",
    "arr =np.array([0,1,2,3,4,5])\n",
    "arr"
   ]
  },
  {
   "cell_type": "code",
   "execution_count": 8,
   "metadata": {},
   "outputs": [
    {
     "name": "stdout",
     "output_type": "stream",
     "text": [
      " The given data is float64\n"
     ]
    }
   ],
   "source": [
    "# ques2-\" Given a NumPy array 'arr', check if its data type is float64.\"\n",
    "\n",
    "arr = np.array([1.5, 2.6, 3.7])\n",
    "\n",
    "if arr.dtype == np.float64:\n",
    "    print(\" The given data is float64\")\n",
    "\n",
    "else:\n",
    "    print(\" The Given data is not float64\")"
   ]
  },
  {
   "cell_type": "code",
   "execution_count": 9,
   "metadata": {},
   "outputs": [
    {
     "data": {
      "text/plain": [
       "dtype('complex128')"
      ]
     },
     "execution_count": 9,
     "metadata": {},
     "output_type": "execute_result"
    }
   ],
   "source": [
    "# ques3-\"Create a NumPy array 'arr' with a data type of complex128 containing three complex numbers.\"\n",
    "\n",
    "arr=np.array([1+2j,3+4j,5+9j])\n",
    "\n",
    "arr\n",
    "arr.dtype"
   ]
  },
  {
   "cell_type": "code",
   "execution_count": 10,
   "metadata": {},
   "outputs": [
    {
     "data": {
      "text/plain": [
       "array([1., 2., 3., 4., 5., 6.], dtype=float32)"
      ]
     },
     "execution_count": 10,
     "metadata": {},
     "output_type": "execute_result"
    }
   ],
   "source": [
    "# ques4-\"Convert an existing NumPy array 'arr' of integers to float32 data type.\"\n",
    "\n",
    "arr=np.array([1,2,3,4,5,6])\n",
    "\n",
    "arr=arr.astype(\"float32\")\n",
    "\n",
    "arr"
   ]
  },
  {
   "cell_type": "code",
   "execution_count": 11,
   "metadata": {},
   "outputs": [
    {
     "data": {
      "text/plain": [
       "array([1.1, 2.2, 3.3, 4.4, 5.5], dtype=float32)"
      ]
     },
     "execution_count": 11,
     "metadata": {},
     "output_type": "execute_result"
    }
   ],
   "source": [
    "# ques5-\"Given a NumPy array 'arr' with float64 data type, convert it to float32 to reduce decimal precision.\"\n",
    "\n",
    "arr=np.array([1.1,2.2,3.3,4.4,5.5])\n",
    "\n",
    "arr.dtype\n",
    "arr.astype(np.float32)"
   ]
  },
  {
   "cell_type": "code",
   "execution_count": 12,
   "metadata": {},
   "outputs": [
    {
     "data": {
      "text/plain": [
       "([(2, 3)], [6], [dtype('int64')])"
      ]
     },
     "execution_count": 12,
     "metadata": {},
     "output_type": "execute_result"
    }
   ],
   "source": [
    "# ques6-\"Write a function array_attributes that takes a NumPy array as input and returns its shape, size, and data\n",
    "#  type\"\n",
    "\n",
    "\n",
    "array_attributes=(np.array([[1, 2, 3], [4, 5, 6]]))\n",
    "\n",
    "[array_attributes.shape], [array_attributes.size], [array_attributes.dtype]\n"
   ]
  },
  {
   "cell_type": "code",
   "execution_count": 13,
   "metadata": {},
   "outputs": [
    {
     "data": {
      "text/plain": [
       "3"
      ]
     },
     "execution_count": 13,
     "metadata": {},
     "output_type": "execute_result"
    }
   ],
   "source": [
    "# ques7-\"Create a function array_dimension that takes a NumPy array as input and returns its dimensionality\"\n",
    "\n",
    "import numpy as np\n",
    "\n",
    "array_dimension= (np.array([[[1,2,3,4],[5,6,7,8],[9,10,11,12]]]))\n",
    "\n",
    "array_dimension.ndim"
   ]
  },
  {
   "cell_type": "code",
   "execution_count": 14,
   "metadata": {},
   "outputs": [
    {
     "data": {
      "text/plain": [
       "(8, 48)"
      ]
     },
     "execution_count": 14,
     "metadata": {},
     "output_type": "execute_result"
    }
   ],
   "source": [
    "# ques8-\"Design a function item_size_info that takes a NumPy array as input and returns the item size and the total\n",
    "# size in bytes\"\n",
    "\n",
    "item_size_info= (np.array([[1,2,3],[4,5,6]]))\n",
    "\n",
    "item_size_info.itemsize, item_size_info.nbytes"
   ]
  },
  {
   "cell_type": "code",
   "execution_count": 15,
   "metadata": {},
   "outputs": [
    {
     "name": "stdout",
     "output_type": "stream",
     "text": [
      "(24, 8)\n"
     ]
    }
   ],
   "source": [
    "# ques9-\" Create a function array_strides that takes a NumPy array as input and returns the strides of the array.\"\n",
    "\n",
    "array_strides=(np.array([[1,2,3],[4,5,6]]))\n",
    "\n",
    "print(array_strides.strides)"
   ]
  },
  {
   "cell_type": "code",
   "execution_count": 16,
   "metadata": {},
   "outputs": [
    {
     "data": {
      "text/plain": [
       "((2, 3), (24, 8))"
      ]
     },
     "execution_count": 16,
     "metadata": {},
     "output_type": "execute_result"
    }
   ],
   "source": [
    "# ques10-\"Design a function shape_stride_relationship that takes a NumPy array as input and returns the shape\n",
    "# and strides of the array.\"\n",
    "\n",
    "shape_stride_relationship= (np.array([[1,2,3],[4,5,6]]))\n",
    "\n",
    "(shape_stride_relationship.shape),(shape_stride_relationship.strides)"
   ]
  },
  {
   "cell_type": "code",
   "execution_count": 17,
   "metadata": {},
   "outputs": [
    {
     "name": "stdout",
     "output_type": "stream",
     "text": [
      "[0 0 0 0 0]\n"
     ]
    }
   ],
   "source": [
    "# ques11-\"Create a function `create_zeros_array` that takes an integer `n` as input and returns a NumPy array of\n",
    "# zeros with `n` elements\"\n",
    "n=5\n",
    "create_zeros_array = (np.zeros(n).astype(int))\n",
    "print(create_zeros_array)\n",
    "\n"
   ]
  },
  {
   "cell_type": "code",
   "execution_count": 18,
   "metadata": {},
   "outputs": [
    {
     "name": "stdout",
     "output_type": "stream",
     "text": [
      "[[1 1 1 1]\n",
      " [1 1 1 1]\n",
      " [1 1 1 1]]\n"
     ]
    }
   ],
   "source": [
    "# ques12-\" Write a function `create_ones_matrix` that takes integers `rows` and `cols` as inputs and generates a 2D\n",
    "# NumPy array filled with ones of size `rows x cols`.\"\n",
    " \n",
    "\n",
    "def create_ones_matrix(rows, cols):\n",
    "    return np.ones((rows, cols))\n",
    "\n",
    "rows = 3\n",
    "cols = 4\n",
    "result = (create_ones_matrix(rows, cols).astype(int))\n",
    "print(result)\n",
    "\n",
    "# result.dtype\n"
   ]
  },
  {
   "cell_type": "code",
   "execution_count": 19,
   "metadata": {},
   "outputs": [
    {
     "ename": "ValueError",
     "evalue": "invalid literal for int() with base 10: ''",
     "output_type": "error",
     "traceback": [
      "\u001b[1;31m---------------------------------------------------------------------------\u001b[0m",
      "\u001b[1;31mValueError\u001b[0m                                Traceback (most recent call last)",
      "Cell \u001b[1;32mIn[19], line 4\u001b[0m\n\u001b[0;32m      1\u001b[0m \u001b[38;5;66;03m# ques13-\" Write a function `generate_range_array` that takes three integers start, stop, and step as arguments and\u001b[39;00m\n\u001b[0;32m      2\u001b[0m \u001b[38;5;66;03m# creates a NumPy array with a range starting from `start`, ending at stop (exclusive), and with the specified step\"\u001b[39;00m\n\u001b[1;32m----> 4\u001b[0m start\u001b[38;5;241m=\u001b[39m\u001b[38;5;28;43mint\u001b[39;49m\u001b[43m(\u001b[49m\u001b[38;5;28;43minput\u001b[39;49m\u001b[43m(\u001b[49m\u001b[38;5;124;43m\"\u001b[39;49m\u001b[38;5;124;43menter the start value:\u001b[39;49m\u001b[38;5;124;43m\"\u001b[39;49m\u001b[43m)\u001b[49m\u001b[43m)\u001b[49m\n\u001b[0;32m      5\u001b[0m stop\u001b[38;5;241m=\u001b[39m\u001b[38;5;28mint\u001b[39m(\u001b[38;5;28minput\u001b[39m(\u001b[38;5;124m\"\u001b[39m\u001b[38;5;124menter the stop value:\u001b[39m\u001b[38;5;124m\"\u001b[39m))\n\u001b[0;32m      6\u001b[0m step\u001b[38;5;241m=\u001b[39m\u001b[38;5;28mint\u001b[39m(\u001b[38;5;28minput\u001b[39m(\u001b[38;5;124m\"\u001b[39m\u001b[38;5;124menter the step value:\u001b[39m\u001b[38;5;124m\"\u001b[39m))\n",
      "\u001b[1;31mValueError\u001b[0m: invalid literal for int() with base 10: ''"
     ]
    }
   ],
   "source": [
    "# ques13-\" Write a function `generate_range_array` that takes three integers start, stop, and step as arguments and\n",
    "# creates a NumPy array with a range starting from `start`, ending at stop (exclusive), and with the specified step\"\n",
    "\n",
    "start=int(input(\"enter the start value:\"))\n",
    "stop=int(input(\"enter the stop value:\"))\n",
    "step=int(input(\"enter the step value:\"))\n",
    "\n",
    "def generate_range_array(start,stop,step):\n",
    "    return np.arange(start,stop,step)\n",
    "\n",
    "\n",
    "generate_range_array(start,stop,step)\n",
    "    "
   ]
  },
  {
   "cell_type": "code",
   "execution_count": 34,
   "metadata": {},
   "outputs": [
    {
     "data": {
      "text/plain": [
       "array([0.  , 0.25, 0.5 , 0.75, 1.  ])"
      ]
     },
     "execution_count": 34,
     "metadata": {},
     "output_type": "execute_result"
    }
   ],
   "source": [
    "# ques14-\"Design a function `generate_linear_space` that takes two floats `start`, `stop`, and an integer `num` as\n",
    "# arguments and generates a NumPy array with num equally spaced values between `start` and `stop`(inclusive)\"\n",
    "\n",
    "\n",
    "start=0.0\n",
    "stop=1.0\n",
    "num=5\n",
    "\n",
    "def generate_linear_space(start,stop,num):\n",
    "    return np.linspace(start,stop,num)\n",
    "\n",
    "generate_linear_space(start,stop,num)\n"
   ]
  },
  {
   "cell_type": "code",
   "execution_count": null,
   "metadata": {},
   "outputs": [
    {
     "name": "stdout",
     "output_type": "stream",
     "text": [
      "[[1. 0. 0. 0. 0.]\n",
      " [0. 1. 0. 0. 0.]\n",
      " [0. 0. 1. 0. 0.]\n",
      " [0. 0. 0. 1. 0.]\n",
      " [0. 0. 0. 0. 1.]]\n"
     ]
    }
   ],
   "source": [
    "#ques15- \"Create a function `create_identity_matrix` that takes an integer `n` as input and generates a square\n",
    "# identity matrix of size `n x n` using `numpy.eye\".\n",
    "\n",
    "import numpy as np\n",
    "\n",
    "def create_identity_matrix(n):\n",
    "    return np.eye(n)\n",
    "\n",
    "print(create_identity_matrix(5))\n"
   ]
  },
  {
   "cell_type": "code",
   "execution_count": 3,
   "metadata": {},
   "outputs": [
    {
     "name": "stdout",
     "output_type": "stream",
     "text": [
      "[1 2 3 4 5]\n"
     ]
    }
   ],
   "source": [
    "#  ques16-\"Write a function that takes a Python list and converts it into a NumPy array.\"\n",
    "\n",
    "import numpy as np\n",
    "\n",
    "def list_to_array(lst):\n",
    "    return np.array(lst)\n",
    "\n",
    "lst = [1, 2, 3, 4, 5]\n",
    "arr = list_to_array(lst)\n",
    "print(arr)\n"
   ]
  },
  {
   "cell_type": "code",
   "execution_count": 4,
   "metadata": {},
   "outputs": [
    {
     "name": "stdout",
     "output_type": "stream",
     "text": [
      "Original array: [1 2 3 4 5]\n",
      "New array: [1 2 3 4 5]\n"
     ]
    }
   ],
   "source": [
    "# ques17-\"Create a NumPy array and demonstrate the use of `numpy.view` to create a new array object with the\n",
    "# same data.\"\n",
    "\n",
    "import numpy as np  \n",
    "\n",
    "arr = np.array([1, 2, 3, 4, 5])\n",
    "new_arr = arr.view()\n",
    "print(\"Original array:\", arr)\n",
    "print(\"New array:\", new_arr)\n",
    "\n",
    "\n"
   ]
  },
  {
   "cell_type": "code",
   "execution_count": 7,
   "metadata": {},
   "outputs": [
    {
     "name": "stdout",
     "output_type": "stream",
     "text": [
      "[1 2 3 4 5 6]\n"
     ]
    }
   ],
   "source": [
    "#  ques18-\"Write a function that takes two NumPy arrays and concatenates them along a specified axis.\"\n",
    "\n",
    "def concatenate_arrays(arr1, arr2, axis):\n",
    "    return np.concatenate((arr1, arr2), axis=axis)\n",
    "\n",
    "\n",
    "arr1 = np.array([1, 2, 3])\n",
    "arr2 = np.array([4, 5, 6])\n",
    "result = concatenate_arrays(arr1, arr2, axis=0)\n",
    "print(result)"
   ]
  },
  {
   "cell_type": "code",
   "execution_count": 8,
   "metadata": {},
   "outputs": [
    {
     "name": "stdout",
     "output_type": "stream",
     "text": [
      "[1 2 3 4 5 6 7]\n"
     ]
    }
   ],
   "source": [
    "# ques19-\"Create two NumPy arrays with different shapes and concatenate them horizontally using `numpy.\n",
    "# concatenate`.\"\n",
    "\n",
    "\n",
    "\n",
    "arr1 = np.array([1, 2, 3])\n",
    "arr2 = np.array([4, 5, 6, 7])\n",
    "\n",
    "concatenated_arr = np.concatenate((arr1, arr2))\n",
    "\n",
    "print(concatenated_arr)"
   ]
  },
  {
   "cell_type": "code",
   "execution_count": 9,
   "metadata": {},
   "outputs": [
    {
     "data": {
      "text/plain": [
       "array([[1, 2, 3],\n",
       "       [4, 5, 6],\n",
       "       [7, 8, 9]])"
      ]
     },
     "execution_count": 9,
     "metadata": {},
     "output_type": "execute_result"
    }
   ],
   "source": [
    "# ques20- \"Write a function that vertically stacks multiple NumPy arrays given as a list.\"\n",
    "\n",
    "array_list = [np.array([1, 2, 3]), np.array([4, 5, 6]), np.array([7, 8, 9])]\n",
    "\n",
    "np.vstack(array_list)\n",
    "\n"
   ]
  },
  {
   "cell_type": "code",
   "execution_count": 10,
   "metadata": {},
   "outputs": [
    {
     "name": "stdout",
     "output_type": "stream",
     "text": [
      "[1 3 5 7 9]\n"
     ]
    }
   ],
   "source": [
    "# ques21-\"Write a Python function using NumPy to create an array of integers within a specified range (inclusive)\n",
    "# with a given step size.\"\n",
    "\n",
    "def array_of_integers(start, end, step):\n",
    "    return np.arange(start, end+1, step)\n",
    "\n",
    "print(array_of_integers(1, 10, 2))\n",
    "\n"
   ]
  },
  {
   "cell_type": "code",
   "execution_count": null,
   "metadata": {},
   "outputs": [
    {
     "data": {
      "text/plain": [
       "array([0.        , 0.11111111, 0.22222222, 0.33333333, 0.44444444,\n",
       "       0.55555556, 0.66666667, 0.77777778, 0.88888889, 1.        ])"
      ]
     },
     "execution_count": 1,
     "metadata": {},
     "output_type": "execute_result"
    }
   ],
   "source": [
    "# ques22-\"Write a Python function using NumPy to generate an array of 10 equally spaced values between 0 and 1\n",
    "# (inclusive).\"\n",
    "\n",
    "def eq_spaced_array(start,end,num):\n",
    "    import numpy as np\n",
    "    return np. linspace(start,end,num)\n",
    "\n",
    "eq_spaced_array(0,1,10)\n"
   ]
  },
  {
   "cell_type": "code",
   "execution_count": 16,
   "metadata": {},
   "outputs": [
    {
     "data": {
      "text/plain": [
       "array([  10.        ,   31.6227766 ,  100.        ,  316.22776602,\n",
       "       1000.        ])"
      ]
     },
     "execution_count": 16,
     "metadata": {},
     "output_type": "execute_result"
    }
   ],
   "source": [
    "# ques23-\"Write a Python function using NumPy to create an array of 5 logarithmically spaced values between 1 and\n",
    "# 1000 (inclusive).\"\n",
    "\n",
    "import numpy as np\n",
    "\n",
    "def log_spaced_array(start, end, num):\n",
    "    return np.logspace(start, end, num, base=10)\n",
    "\n",
    "start = 1\n",
    "end = 3\n",
    "num = 5 \n",
    "\n",
    "log_spaced_array(start, end, num)"
   ]
  },
  {
   "cell_type": "code",
   "execution_count": null,
   "metadata": {},
   "outputs": [],
   "source": [
    "import numpy as np\n",
    "import panda as pd"
   ]
  },
  {
   "cell_type": "code",
   "execution_count": null,
   "metadata": {},
   "outputs": [
    {
     "name": "stdout",
     "output_type": "stream",
     "text": [
      "    0   1   2\n",
      "0  32  31  44\n",
      "1  54  51  10\n",
      "2  63   8  24\n",
      "3  40  50  19\n",
      "4  62  42  64\n"
     ]
    }
   ],
   "source": [
    "# ques24-\" Create a Pandas DataFrame using a NumPy array that contains 5 rows and 3 columns, where the values\n",
    "# are random integers between 1 and 100.\"\n",
    "\n",
    "import pandas as pd\n",
    "import numpy as np\n",
    "\n",
    "arr = np.random.randint(1, 69, size=(5, 3))\n",
    "\n",
    "df = pd.DataFrame(arr)\n",
    "\n",
    "print(df)"
   ]
  },
  {
   "cell_type": "code",
   "execution_count": 23,
   "metadata": {},
   "outputs": [
    {
     "data": {
      "text/html": [
       "<div>\n",
       "<style scoped>\n",
       "    .dataframe tbody tr th:only-of-type {\n",
       "        vertical-align: middle;\n",
       "    }\n",
       "\n",
       "    .dataframe tbody tr th {\n",
       "        vertical-align: top;\n",
       "    }\n",
       "\n",
       "    .dataframe thead th {\n",
       "        text-align: right;\n",
       "    }\n",
       "</style>\n",
       "<table border=\"1\" class=\"dataframe\">\n",
       "  <thead>\n",
       "    <tr style=\"text-align: right;\">\n",
       "      <th></th>\n",
       "      <th>A</th>\n",
       "      <th>B</th>\n",
       "      <th>C</th>\n",
       "    </tr>\n",
       "  </thead>\n",
       "  <tbody>\n",
       "    <tr>\n",
       "      <th>0</th>\n",
       "      <td>1</td>\n",
       "      <td>10</td>\n",
       "      <td>100</td>\n",
       "    </tr>\n",
       "    <tr>\n",
       "      <th>1</th>\n",
       "      <td>2</td>\n",
       "      <td>20</td>\n",
       "      <td>200</td>\n",
       "    </tr>\n",
       "    <tr>\n",
       "      <th>2</th>\n",
       "      <td>3</td>\n",
       "      <td>30</td>\n",
       "      <td>300</td>\n",
       "    </tr>\n",
       "    <tr>\n",
       "      <th>3</th>\n",
       "      <td>4</td>\n",
       "      <td>40</td>\n",
       "      <td>400</td>\n",
       "    </tr>\n",
       "    <tr>\n",
       "      <th>4</th>\n",
       "      <td>0</td>\n",
       "      <td>0</td>\n",
       "      <td>500</td>\n",
       "    </tr>\n",
       "  </tbody>\n",
       "</table>\n",
       "</div>"
      ],
      "text/plain": [
       "   A   B    C\n",
       "0  1  10  100\n",
       "1  2  20  200\n",
       "2  3  30  300\n",
       "3  4  40  400\n",
       "4  0   0  500"
      ]
     },
     "execution_count": 23,
     "metadata": {},
     "output_type": "execute_result"
    }
   ],
   "source": [
    "# ques25-\"Write a function that takes a Pandas DataFrame and replaces all negative values in a specific column\n",
    "# with zeros. Use NumPy operations within the Pandas DataFrame.\"\n",
    "\n",
    "df=pd.DataFrame({'A':[1,2,3,4,-5],'B':[10,20,30,40,-50],'C':[100,200,300,400,500]})\n",
    "\n",
    "df[df<0]=0\n",
    "\n",
    "df\n",
    "\n",
    "\n"
   ]
  },
  {
   "cell_type": "code",
   "execution_count": 26,
   "metadata": {},
   "outputs": [
    {
     "name": "stdout",
     "output_type": "stream",
     "text": [
      "30\n"
     ]
    }
   ],
   "source": [
    "# ques26-\"Access the 3rd element from the given NumPy array\"\n",
    "\n",
    "arr = np.array([10, 20, 30, 40, 50])\n",
    "print(arr[2])\n",
    "\n"
   ]
  },
  {
   "cell_type": "code",
   "execution_count": 27,
   "metadata": {},
   "outputs": [
    {
     "name": "stdout",
     "output_type": "stream",
     "text": [
      "Element at index (1, 2): 6\n"
     ]
    }
   ],
   "source": [
    "# ques27-\"Retrieve the element at index (1, 2) from the 2D NumPy array.\"\n",
    "\n",
    "arr_2d = np.array([[1, 2, 3],\n",
    "                   [4, 5, 6],\n",
    "                   [7, 8, 9]])\n",
    "\n",
    "element = arr_2d[1, 2]\n",
    "print(\"Element at index (1, 2):\", element)\n"
   ]
  },
  {
   "cell_type": "code",
   "execution_count": 39,
   "metadata": {},
   "outputs": [
    {
     "name": "stdout",
     "output_type": "stream",
     "text": [
      "element greater than 5 are:[ 8 10  7]\n",
      "[False  True False  True False  True]\n"
     ]
    }
   ],
   "source": [
    "# ques28-\". Using boolean indexing, extract elements greater than 5 from the given NumPy array.\"\n",
    "\n",
    "arr = np.array([3, 8, 2, 10, 5, 7])\n",
    "\n",
    "result=arr[arr>5]\n",
    "\n",
    "print(f\"element greater than 5 are:{result}\")\n",
    "\n",
    "print(arr>5)"
   ]
  },
  {
   "cell_type": "code",
   "execution_count": 40,
   "metadata": {},
   "outputs": [
    {
     "name": "stdout",
     "output_type": "stream",
     "text": [
      "Original Array: [ 1  2  3  4  5  6  7  8  9 10]\n",
      "Sliced Array: [3 4 5 6]\n"
     ]
    }
   ],
   "source": [
    "# ques29-\"Perform basic slicing to extract elements from index 2 to 5 (inclusive) from the given NumPy array\".\n",
    "\n",
    "my_array = np.array([1, 2, 3, 4, 5, 6, 7, 8, 9, 10])\n",
    "\n",
    "sliced_array = my_array[2:6]\n",
    "\n",
    "print(\"Original Array:\", my_array)\n",
    "print(\"Sliced Array:\", sliced_array)\n"
   ]
  },
  {
   "cell_type": "code",
   "execution_count": 41,
   "metadata": {},
   "outputs": [
    {
     "name": "stdout",
     "output_type": "stream",
     "text": [
      "[[5 6]\n",
      " [8 9]]\n"
     ]
    }
   ],
   "source": [
    "# ques30-\" Slice the 2D NumPy array to extract the sub-array `[[2, 3], [5, 6]]` from the given array.\"\n",
    "\n",
    "arr_2d = np.array([[1, 2, 3],\n",
    "                   [4, 5, 6],\n",
    "                   [7, 8, 9]])\n",
    "\n",
    "\n",
    "sub_array = arr_2d[1:3, 1:3]\n",
    "\n",
    "print(sub_array)\n"
   ]
  },
  {
   "cell_type": "code",
   "execution_count": 44,
   "metadata": {},
   "outputs": [
    {
     "name": "stdout",
     "output_type": "stream",
     "text": [
      "[[1 2 3]\n",
      " [4 5 6]\n",
      " [7 8 9]]\n"
     ]
    }
   ],
   "source": [
    "# ques31-\"Write a NumPy function to extract elements in specific order from a given 2D array based on indices\n",
    "# provided in another array.\"\n",
    "\n",
    "arr_dd=np.array([[1,2,3],[4,5,6],[7,8,9]])\n",
    "\n",
    "print(arr_dd)"
   ]
  },
  {
   "cell_type": "code",
   "execution_count": 45,
   "metadata": {},
   "outputs": [
    {
     "name": "stdout",
     "output_type": "stream",
     "text": [
      "[ 6  7  8  9 10]\n"
     ]
    }
   ],
   "source": [
    "# ques32-\"Create a NumPy function that filters elements greater than a threshold from a given 1D array using\n",
    "# boolean indexing.\"\n",
    "\n",
    "arr=np.array([1,2,3,4,5,6,7,8,9,10])\n",
    "\n",
    "threshold=5\n",
    "\n",
    "print(arr[arr>threshold])"
   ]
  },
  {
   "cell_type": "code",
   "execution_count": 46,
   "metadata": {},
   "outputs": [
    {
     "name": "stdout",
     "output_type": "stream",
     "text": [
      "[[[ 1  2  3]\n",
      "  [ 4  5  6]\n",
      "  [ 7  8  9]]\n",
      "\n",
      " [[10 11 12]\n",
      "  [13 14 15]\n",
      "  [16 17 18]]\n",
      "\n",
      " [[19 20 21]\n",
      "  [22 23 24]\n",
      "  [25 26 27]]]\n"
     ]
    }
   ],
   "source": [
    "# ques33-\"Develop a NumPy function that extracts specific elements from a 3D array using indices provided in three\n",
    "# separate arrays for each dimension.\"\n",
    "\n",
    "arr=np.array([[[1,2,3],[4,5,6],[7,8,9]],[[10,11,12],[13,14,15],[16,17,18]],[[19,20,21],[22,23,24],[25,26,27]]])\n",
    "\n",
    "print(arr)\n",
    "\n"
   ]
  },
  {
   "cell_type": "code",
   "execution_count": 47,
   "metadata": {},
   "outputs": [
    {
     "name": "stdout",
     "output_type": "stream",
     "text": [
      "[ 6  8 10]\n"
     ]
    }
   ],
   "source": [
    "# ques34-\"Write a NumPy function that returns elements from an array where both two conditions are satisfied\n",
    "# using boolean indexing.\"\n",
    "\n",
    "def check_condition(arr, condition1, condition2):\n",
    "    result = arr[(condition1) & (condition2)]\n",
    "    return result   \n",
    "\n",
    "arr=np.array([1,2,3,4,5,6,7,8,9,10])\n",
    "\n",
    "condition1 = arr % 2 == 0\n",
    "condition2 = arr > 5\n",
    "\n",
    "result = check_condition(arr, condition1, condition2)\n",
    "\n",
    "print(result)"
   ]
  },
  {
   "cell_type": "code",
   "execution_count": 50,
   "metadata": {},
   "outputs": [
    {
     "name": "stdout",
     "output_type": "stream",
     "text": [
      "[2 9]\n"
     ]
    }
   ],
   "source": [
    "#ques35-\"Create a NumPy function that extracts elements from a 2D array using row and column indices provided\n",
    "# in separate arrays.\"\n",
    "\n",
    "def extract_elements(array, row_indices, col_indices):\n",
    "    return array[row_indices, col_indices]\n",
    "\n",
    "\n",
    "array = np.array([[1, 2, 3], [4, 5, 6], [7, 8, 9]])\n",
    "row_indices = np.array([0, 2])\n",
    "col_indices = np.array([1, 2])\n",
    "\n",
    "result = extract_elements(array, row_indices, col_indices)\n",
    "print(result)"
   ]
  },
  {
   "cell_type": "code",
   "execution_count": 3,
   "metadata": {},
   "outputs": [
    {
     "name": "stdout",
     "output_type": "stream",
     "text": [
      "[[ 6  7  8]\n",
      " [ 9 10 11]\n",
      " [12 13 14]]\n"
     ]
    }
   ],
   "source": [
    "#ques36-\"Given an array arr of shape (3, 3), add a scalar value of 5 to each element using NumPy broadcasting.\"\n",
    "\n",
    "import numpy as np\n",
    "\n",
    "arr=np.array([[1,2,3],[4,5,6],[7,8,9]])\n",
    "\n",
    "result=arr+5\n",
    "\n",
    "print(result)\n"
   ]
  },
  {
   "cell_type": "code",
   "execution_count": 5,
   "metadata": {},
   "outputs": [
    {
     "name": "stdout",
     "output_type": "stream",
     "text": [
      "[[ 1 10 27]\n",
      " [ 2 12 30]\n",
      " [ 3 14 33]\n",
      " [ 4 16 36]]\n"
     ]
    }
   ],
   "source": [
    "# ques37-\"Consider two arrays arr1 of shape (1, 3) and arr2 of shape (3, 4). Multiply each row of arr2 by the\n",
    "# corresponding element in arr1 using NumPy broadcasting.\"\n",
    "\n",
    "arr1=np.array([[1,2,3]])\n",
    "\n",
    "arr2=np.array([[1,2,3,4],[5,6,7,8],[9,10,11,12]])\n",
    "\n",
    "print(arr1*arr2.T)\n"
   ]
  },
  {
   "cell_type": "code",
   "execution_count": 13,
   "metadata": {},
   "outputs": [
    {
     "name": "stdout",
     "output_type": "stream",
     "text": [
      "[[ 2  6 10 14]\n",
      " [ 3  7 11 15]\n",
      " [ 4  8 12 16]]\n"
     ]
    }
   ],
   "source": [
    "# ques38-\"Given a 1D array arr1 of shape (1, 4) and a 2D array arr2 of shape (4, 3), add arr1 to each row of arr2 using\n",
    "# NumPy broadcasting.\"\n",
    "\n",
    "arr1=np.array([[1,2,3,4]])\n",
    "\n",
    "arr2=np.array([[1,2,3],[4,5,6],[7,8,9],[10,11,12]])\n",
    "\n",
    "print(arr1+arr2.T)\n"
   ]
  },
  {
   "cell_type": "code",
   "execution_count": 10,
   "metadata": {},
   "outputs": [
    {
     "name": "stdout",
     "output_type": "stream",
     "text": [
      "[[2 3 4]\n",
      " [3 4 5]\n",
      " [4 5 6]]\n"
     ]
    }
   ],
   "source": [
    "# ques39-\"Consider two arrays arr1 of shape (3, 1) and arr2 of shape (1, 3). Add these arrays using NumPy\n",
    "# broadcasting.\"\n",
    "\n",
    "arr1=np.array([[1],[2],[3]])\n",
    "\n",
    "aar2=np.array([[1,2,3]])\n",
    "\n",
    "print(arr1+aar2)"
   ]
  },
  {
   "cell_type": "code",
   "execution_count": 20,
   "metadata": {},
   "outputs": [
    {
     "name": "stdout",
     "output_type": "stream",
     "text": [
      "[[[ 2  4  6]\n",
      "  [12 15 18]]\n",
      "\n",
      " [[ 4  8 12]\n",
      "  [20 25 30]]]\n"
     ]
    }
   ],
   "source": [
    "# ques40-\" Given arrays arr1 of shape (2, 3) and arr2 of shape (2, 2), perform multiplication using NumPy\n",
    "# broadcasting. Handle the shape incompatibility\"\n",
    "\n",
    "arr1=np.array([[1,2,3],\n",
    "             [4,5,6]])\n",
    "\n",
    "arr2=np.array([[2,3],\n",
    "              [4,5]])\n",
    "\n",
    "arr2_expanded = np.expand_dims(arr2, axis=-1)\n",
    "\n",
    "result = arr1 * arr2_expanded\n",
    "\n",
    "print(result)\n",
    "\n"
   ]
  },
  {
   "cell_type": "code",
   "execution_count": 28,
   "metadata": {},
   "outputs": [
    {
     "name": "stdout",
     "output_type": "stream",
     "text": [
      "[2.5 3.5 4.5]\n"
     ]
    }
   ],
   "source": [
    "# ques41-\" Calculate column wise mean for the given array:\"\n",
    "\n",
    "arr = np.array([[1, 2, 3], \n",
    "                [4, 5, 6]])\n",
    "\n",
    "print(np.mean(arr, axis=0))\n",
    "\n"
   ]
  },
  {
   "cell_type": "code",
   "execution_count": 30,
   "metadata": {},
   "outputs": [
    {
     "name": "stdout",
     "output_type": "stream",
     "text": [
      "[3 6]\n"
     ]
    }
   ],
   "source": [
    "# ques42-\"Find maximum value in each row of the given array:\"\n",
    "\n",
    "arr = np.array([[1, 2, 3], [4, 5, 6]])\n",
    "\n",
    "print(np.max(arr, axis=1))\n"
   ]
  },
  {
   "cell_type": "code",
   "execution_count": 31,
   "metadata": {},
   "outputs": [
    {
     "name": "stdout",
     "output_type": "stream",
     "text": [
      "[1 1 1]\n"
     ]
    }
   ],
   "source": [
    "# ques43=\"For the given array, find indices of maximum value in each column\"\n",
    "\n",
    "arr = np.array([[1, 2, 3], \n",
    "                [4, 5, 6]])\n",
    "\n",
    "print(np.argmax(arr, axis=0))"
   ]
  },
  {
   "cell_type": "code",
   "execution_count": 42,
   "metadata": {},
   "outputs": [
    {
     "name": "stdout",
     "output_type": "stream",
     "text": [
      "[ 6 15]\n"
     ]
    }
   ],
   "source": [
    "# ques44-\" For the given array, apply custom function to calculate moving sum along rows.\"\n",
    "\n",
    "arr = np.array([[1, 2, 3], [4, 5, 6]])\n",
    "\n",
    "def moving_sum(arr):\n",
    "    return np.sum(arr, axis=1)\n",
    "\n",
    "print(moving_sum(arr))"
   ]
  },
  {
   "cell_type": "code",
   "execution_count": 44,
   "metadata": {},
   "outputs": [
    {
     "name": "stdout",
     "output_type": "stream",
     "text": [
      "[False False False]\n"
     ]
    }
   ],
   "source": [
    "# ques45-\"In the given array, check if all elements in each column are even.\"\n",
    "\n",
    "arr = np.array([[2, 4, 6], [3, 5, 7]])\n",
    "\n",
    "print(np.all(arr % 2 == 0,axis=0))"
   ]
  },
  {
   "cell_type": "code",
   "execution_count": 45,
   "metadata": {},
   "outputs": [
    {
     "name": "stdout",
     "output_type": "stream",
     "text": [
      "[[1 2 3]\n",
      " [4 5 6]]\n"
     ]
    }
   ],
   "source": [
    "# ques46-\"Given a NumPy array arr, reshape it into a matrix of dimensions `m` rows and `n` columns. Return the\n",
    "# reshaped matrix.\"\n",
    "\n",
    "original_array = np.array([1, 2, 3, 4, 5, 6])\n",
    "\n",
    "reshaped_array = original_array.reshape(2, 3)\n",
    "\n",
    "print(reshaped_array)"
   ]
  },
  {
   "cell_type": "code",
   "execution_count": 46,
   "metadata": {},
   "outputs": [
    {
     "name": "stdout",
     "output_type": "stream",
     "text": [
      "[1 2 3 4 5 6]\n"
     ]
    }
   ],
   "source": [
    "# ques47-\"Create a function that takes a matrix as input and returns the flattened array.\"\n",
    "\n",
    "input_matrix = np.array([[1, 2, 3], [4, 5, 6]])\n",
    "\n",
    "def flatten_matrix(matrix):\n",
    "    return matrix.flatten()\n",
    "\n",
    "flattened_array = flatten_matrix(input_matrix)\n",
    "print(flattened_array)"
   ]
  },
  {
   "cell_type": "code",
   "execution_count": 2,
   "metadata": {},
   "outputs": [
    {
     "name": "stdout",
     "output_type": "stream",
     "text": [
      "[[1 2 5 6]\n",
      " [3 4 7 8]]\n"
     ]
    }
   ],
   "source": [
    "# ques48-\". Write a function that concatenates two given arrays along a specified axis.\"\n",
    "\n",
    "import numpy as np\n",
    "array1 = np.array([[1, 2], [3, 4]])\n",
    "array2 = np.array([[5, 6], [7, 8]])\n",
    "\n",
    "print(np.concatenate((array1, array2), axis=1))"
   ]
  },
  {
   "cell_type": "code",
   "execution_count": 9,
   "metadata": {},
   "outputs": [
    {
     "data": {
      "text/plain": [
       "[array([[1, 2, 3],\n",
       "        [4, 5, 6],\n",
       "        [7, 8, 9]])]"
      ]
     },
     "execution_count": 9,
     "metadata": {},
     "output_type": "execute_result"
    }
   ],
   "source": [
    "# ques49-\" Create a function that splits an array into multiple sub-arrays along a specified axis.\"\n",
    "\n",
    "original_array = np.array([[1, 2, 3], [4, 5, 6], [7, 8, 9]])\n",
    "\n",
    "def split_array(array, axis):\n",
    "    return np.split(array, axis)\n",
    "\n",
    "split_array(original_array, 1)\n",
    "\n",
    "\n"
   ]
  },
  {
   "cell_type": "code",
   "execution_count": 10,
   "metadata": {},
   "outputs": [
    {
     "name": "stdout",
     "output_type": "stream",
     "text": [
      "[ 1 10  4 11  5]\n"
     ]
    }
   ],
   "source": [
    "# ques50-\"Write a function that inserts and then deletes elements from a given array at specified indices.\"\n",
    "\n",
    "original_array = np.array([1, 2, 3, 4, 5])\n",
    "indices_to_insert = [2, 4]\n",
    "values_to_insert = [10, 11]\n",
    "indices_to_delete = [1, 3]\n",
    "\n",
    "\n",
    "new_array = np.insert(original_array, indices_to_insert, values_to_insert)\n",
    "\n",
    "new_array = np.delete(new_array, indices_to_delete)\n",
    "\n",
    "print(new_array)"
   ]
  },
  {
   "cell_type": "code",
   "execution_count": 17,
   "metadata": {},
   "outputs": [
    {
     "name": "stdout",
     "output_type": "stream",
     "text": [
      "Array1: [33 27 50 10 20 32 43 90 11 24]\n",
      "Array2: [ 1  2  3  4  5  6  7  8  9 10]\n",
      "Result: [34 29 53 14 25 38 50 98 20 34]\n"
     ]
    }
   ],
   "source": [
    "# ques51-\"Create a NumPy array `arr1` with random integers and another array `arr2` with integers from 1 to 10.\n",
    "# Perform element-wise addition between `arr1` and `arr2`.\"\n",
    "\n",
    "arr1=np.random.randint(1,100,10)\n",
    "arr2=np.arange(1,11)\n",
    "\n",
    "result=arr1+arr2\n",
    "\n",
    "print(\"Array1:\",arr1)\n",
    "print(\"Array2:\",arr2)\n",
    "print(\"Result:\",result)"
   ]
  },
  {
   "cell_type": "code",
   "execution_count": 31,
   "metadata": {},
   "outputs": [
    {
     "name": "stdout",
     "output_type": "stream",
     "text": [
      "Array1: [10  9  8  7  6  5  4  3  2  1]\n",
      "Array2: [ 1  2  3  4  5  6  7  8  9 10]\n",
      "Result: [ 9  7  5  3  1 -1 -3 -5 -7 -9]\n"
     ]
    }
   ],
   "source": [
    "# ques52-\" Generate a NumPy array `arr1` with sequential integers from 10 to 1 and another array `arr2` with integers\n",
    "# from 1 to 10. Subtract `arr2` from `arr1` element-wise.\"\n",
    "\n",
    "arr1=np.arange(10,0,-1)\n",
    "arr2=np.arange(1,11)\n",
    "\n",
    "result=arr1-arr2\n",
    "\n",
    "print(\"Array1:\",arr1)\n",
    "print(\"Array2:\",arr2)\n",
    "\n",
    "print(\"Result:\",result)"
   ]
  },
  {
   "cell_type": "code",
   "execution_count": 35,
   "metadata": {},
   "outputs": [
    {
     "name": "stdout",
     "output_type": "stream",
     "text": [
      "Array1: [59 57 92 49 73]\n",
      "Array2: [1 2 3 4 5]\n",
      "Result: [ 59 114 276 196 365]\n"
     ]
    }
   ],
   "source": [
    "# ques53-\" Create a NumPy array `arr1` with random integers and another array `arr2` with integers from 1 to 5.\n",
    "# Perform element-wise multiplication between `arr1` and `arr2`.\"\n",
    "\n",
    "arr1=np.random.randint(1,100,5)\n",
    "arr2=np.arange(1,6)\n",
    "\n",
    "result=arr1*arr2\n",
    "\n",
    "print(\"Array1:\",arr1)\n",
    "print(\"Array2:\",arr2)\n",
    "print(\"Result:\",result)"
   ]
  },
  {
   "cell_type": "code",
   "execution_count": 38,
   "metadata": {},
   "outputs": [
    {
     "name": "stdout",
     "output_type": "stream",
     "text": [
      "Array1: [ 2  4  6  8 10]\n",
      "Array2: [1 2 3 4 5]\n",
      "Division of Array1 by Array2: [2. 2. 2. 2. 2.]\n"
     ]
    }
   ],
   "source": [
    "# ques54-\"Generate a NumPy array `arr1` with even integers from 2 to 10 and another array `arr2` with integers from 1\n",
    "# to 5. Perform element-wise division of `arr1` by `arr2`.\"\n",
    "\n",
    "arr1=np.arange(2,12,2)\n",
    "arr2=np.arange(1,6)\n",
    "\n",
    "print(\"Array1:\",arr1)\n",
    "print(\"Array2:\",arr2)\n",
    "print(\"Division of Array1 by Array2:\",arr1/arr2)"
   ]
  },
  {
   "cell_type": "code",
   "execution_count": 39,
   "metadata": {},
   "outputs": [
    {
     "name": "stdout",
     "output_type": "stream",
     "text": [
      "[1 2 3 4 5]\n",
      "[5 4 3 2 1]\n",
      "[ 1 16 27 16  5]\n"
     ]
    }
   ],
   "source": [
    "# ques55-\"Create a NumPy array `arr1` with integers from 1 to 5 and another array `arr2` with the same numbers reversed. Calculate the exponentiation of\n",
    "#  `arr1` raised to the power of `arr2` element-wise.\"\n",
    "\n",
    "arr1=np.arange(1,6)\n",
    "arr2=np.arange(5,0,-1)\n",
    "\n",
    "print(arr1)\n",
    "print(arr2)\n",
    "\n",
    "print(np.power(arr1,arr2))\n",
    "\n"
   ]
  },
  {
   "cell_type": "code",
   "execution_count": 48,
   "metadata": {},
   "outputs": [
    {
     "name": "stdout",
     "output_type": "stream",
     "text": [
      "3\n"
     ]
    }
   ],
   "source": [
    "# ques56-\"Write a function that counts the occurrences of a specific substring within a NumPy array of strings.\"\n",
    "\n",
    "arr = np.array(['hello', 'world', 'hello', 'numpy', 'hello'])\n",
    "\n",
    "def count_substring(arr, substring='hello'):\n",
    "    count = 0\n",
    "    for i in arr:\n",
    "        if substring in i:\n",
    "            count += 1\n",
    "    return count\n",
    "\n",
    "print(count_substring(arr))\n"
   ]
  },
  {
   "cell_type": "code",
   "execution_count": 49,
   "metadata": {},
   "outputs": [
    {
     "name": "stdout",
     "output_type": "stream",
     "text": [
      "['H', 'W', 'O', 'A', 'I', 'G', 'P', 'T']\n"
     ]
    }
   ],
   "source": [
    "# ques57-\"Write a function that extracts uppercase characters from a NumPy array of strings\"\n",
    "\n",
    "arr = np.array(['Hello', 'World', 'OpenAI', 'GPT'])\n",
    "\n",
    "def extract_uppercase(arr):\n",
    "    return [char for word in arr for char in word if char.isupper()]\n",
    "\n",
    "print(extract_uppercase(arr))"
   ]
  },
  {
   "cell_type": "code",
   "execution_count": 50,
   "metadata": {},
   "outputs": [
    {
     "name": "stdout",
     "output_type": "stream",
     "text": [
      "['opple' 'bonono' 'grope' 'pineopple']\n"
     ]
    }
   ],
   "source": [
    "# ques58-\" Write a function that replaces occurrences of a substring in a NumPy array of strings with a new string.\"\n",
    "\n",
    "arr = np.array(['apple', 'banana', 'grape', 'pineapple'])\n",
    "\n",
    "def replace_substring(arr, old_substring, new_substring):\n",
    "    for i in range(len(arr)):\n",
    "        if old_substring in arr[i]:\n",
    "            arr[i] = arr[i].replace(old_substring, new_substring)\n",
    "    return arr\n",
    "\n",
    "print(replace_substring(arr, 'a', 'o'))"
   ]
  },
  {
   "cell_type": "code",
   "execution_count": 54,
   "metadata": {},
   "outputs": [
    {
     "name": "stdout",
     "output_type": "stream",
     "text": [
      "['HelloOpen' 'WorldAI']\n"
     ]
    }
   ],
   "source": [
    "# ques59-\"Write a function that concatenates strings in a NumPy array element-wise.\"\n",
    "\n",
    "arr1 = np.array(['Hello', 'World'])\n",
    "arr2 = np.array(['Open', 'AI'])\n",
    "\n",
    "print(np.char.add(arr1, arr2))\n"
   ]
  },
  {
   "cell_type": "code",
   "execution_count": 55,
   "metadata": {},
   "outputs": [
    {
     "name": "stdout",
     "output_type": "stream",
     "text": [
      "pineapple\n"
     ]
    }
   ],
   "source": [
    "# ques60-\" Write a function that finds the length of the longest string in a NumPy array.\"\n",
    "\n",
    "arr = np.array(['apple', 'banana', 'grape', 'pineapple'])\n",
    "\n",
    "def longest_string(arr):\n",
    "    longest = arr[0]\n",
    "    for i in arr:\n",
    "        if len(i) > len(longest):\n",
    "            longest = i\n",
    "    return longest\n",
    "\n",
    "print(longest_string(arr))"
   ]
  },
  {
   "cell_type": "code",
   "execution_count": 10,
   "metadata": {},
   "outputs": [
    {
     "name": "stdout",
     "output_type": "stream",
     "text": [
      "Random Dataset: [ 71 577 536 350 158 874  31 536 197 503 945 558 797  13 920 610 687 875\n",
      " 515 431 576 334 353  98 520 392 307 169 448 653 674 533 609 331  70 288\n",
      " 560 957 535  92 671 359 154 436 857 775 276 680 364 843 843 311 360 983\n",
      " 629 145 597 897 658  87 975 999 745 243 476 725 321 573 751 352 405  35\n",
      " 318 871 835 488 370 391 336 993 774 788 954 436 391 951 897 779 952 469\n",
      " 730  34 230 387 754  35 222 329 190 228]\n",
      "Mean of data: 513.4\n",
      "Median of data: 509.0\n",
      "Variance Of data: 77696.88\n",
      "Standard Deviation of data: 278.74160077031917\n",
      "Maxiumum value of data: 999\n"
     ]
    }
   ],
   "source": [
    "# ques61-\"Create a dataset of 100 random integers between 1 and 1000. Compute the mean, median, variance, and\n",
    "# standard deviation of the dataset using NumPy's functions.\"\n",
    "\n",
    "import numpy as np\n",
    "\n",
    "dataset=np.random.randint(1,1000,100)\n",
    "\n",
    "print(\"Random Dataset:\",dataset)\n",
    "print(\"Mean of data:\",np.mean(dataset))\n",
    "print(\"Median of data:\",np.median(dataset))\n",
    "print(\"Variance Of data:\",np.var(dataset))\n",
    "print(\"Standard Deviation of data:\",np.std(dataset))\n",
    "print(\"Maxiumum value of data:\",np.max(dataset))\n",
    "\n"
   ]
  },
  {
   "cell_type": "code",
   "execution_count": 17,
   "metadata": {},
   "outputs": [
    {
     "name": "stdout",
     "output_type": "stream",
     "text": [
      "Dataset[43 61 66 41 59 69 66 68 42 44 89 84 23 38 48 22  7 10 63 11 79 10 57 10\n",
      " 61 60 12 49 51 47 12 90 84 60 65 41 18 92  8 86 67 27 21 59 58 91 93 81\n",
      " 43 90]\n",
      "25th Percentile of dataset: 29.75\n",
      "75th Percentile of dataset: 67.75\n"
     ]
    }
   ],
   "source": [
    "#ques62- \"Generate an array of 50 random numbers between 1 and 100. Find the 25th and 75th percentiles of the dataset.\"\n",
    "\n",
    "arr=np.random.randint(1,100,50)\n",
    "\n",
    "print(f\"Dataset{arr}\")\n",
    "print(\"25th Percentile of dataset:\",np.percentile(arr,25))\n",
    "print(\"75th Percentile of dataset:\",np.percentile(arr,75))"
   ]
  },
  {
   "cell_type": "code",
   "execution_count": 20,
   "metadata": {},
   "outputs": [
    {
     "name": "stdout",
     "output_type": "stream",
     "text": [
      "[[1. 1.]\n",
      " [1. 1.]]\n"
     ]
    }
   ],
   "source": [
    "# ques63-\"Create two arrays representing two sets of variables. Compute the correlation coefficient between these\n",
    "# arrays using NumPy's `corrcoef` function\"\n",
    "\n",
    "import numpy as np\n",
    "\n",
    "x = np.array([1, 2, 3, 4, 5])\n",
    "y = np.array([2, 4, 6, 8, 10])\n",
    "\n",
    "correlation_coefficient = np.corrcoef(x, y)\n",
    "print(correlation_coefficient)"
   ]
  },
  {
   "cell_type": "code",
   "execution_count": 21,
   "metadata": {},
   "outputs": [
    {
     "name": "stdout",
     "output_type": "stream",
     "text": [
      "[[19 22]\n",
      " [43 50]]\n"
     ]
    }
   ],
   "source": [
    "# ques64-\"Create two matrices and perform matrix multiplication using NumPy's `dot` function\"\n",
    "\n",
    "import numpy as np\n",
    "\n",
    "a = np.array([[1, 2], [3, 4]])\n",
    "b = np.array([[5, 6], [7, 8]])\n",
    "\n",
    "c = np.dot(a, b)\n",
    "\n",
    "print(c)"
   ]
  },
  {
   "cell_type": "code",
   "execution_count": 27,
   "metadata": {},
   "outputs": [
    {
     "name": "stdout",
     "output_type": "stream",
     "text": [
      "Dataset: [832  63 158 899 769 584 876 235 572 133  68 686 446 551 759 930 194 154\n",
      " 838 164 945  77 828 127 953 534 341 158 823  78 195  67 985 592 691 349\n",
      " 105  17 965 400 691 216 401 483 871 113 839 829 331 103]\n",
      "Median of the 10th, 50th, 90th percentiles:[ 77.9 464.5 902.1]\n"
     ]
    }
   ],
   "source": [
    "# ques65-\"Create an array of 50 integers between 10 and 1000. Calculate the 10th, 50th (median), and 90th\n",
    "# percentiles along with the first and third quartiles.\"\n",
    "\n",
    "arr=np.random.randint(10,1000,50)\n",
    "\n",
    "print(\"Dataset:\",arr)\n",
    "print(f\"Median of the 10th, 50th, 90th percentiles:{np.percentile(arr,[10,50,90])}\")  "
   ]
  },
  {
   "cell_type": "code",
   "execution_count": 28,
   "metadata": {},
   "outputs": [
    {
     "name": "stdout",
     "output_type": "stream",
     "text": [
      "[ 1  2  3  4  5  6  7  8  9 10]\n",
      "(array([4]),)\n"
     ]
    }
   ],
   "source": [
    "# ques66-\"Create a NumPy array of integers and find the index of a specific element.\"\n",
    "\n",
    "arr=np.array([1,2,3,4,5,6,7,8,9,10])\n",
    "\n",
    "print(arr)\n",
    "print(np.where(arr==5))"
   ]
  },
  {
   "cell_type": "code",
   "execution_count": 30,
   "metadata": {},
   "outputs": [
    {
     "name": "stdout",
     "output_type": "stream",
     "text": [
      "[25 11 16 75 90 28 38 37 88 34]\n",
      "[11 16 25 28 34 37 38 75 88 90]\n",
      "[90 88 75 38 37 34 28 25 16 11]\n"
     ]
    }
   ],
   "source": [
    "# ques67-\"Generate a random NumPy array and sort it in ascending order.\"\n",
    "\n",
    "arr=np.random.randint(1,100,10)\n",
    "\n",
    "print(arr)\n",
    "\n",
    "print(np.sort(arr))\n",
    "# print(np.sort(arr)[::-1])"
   ]
  },
  {
   "cell_type": "code",
   "execution_count": 34,
   "metadata": {},
   "outputs": [
    {
     "name": "stdout",
     "output_type": "stream",
     "text": [
      "[25 42 30]\n"
     ]
    }
   ],
   "source": [
    "# ques68-\"Filter elements >20  in the given NumPy array.\"\n",
    "\n",
    "arr = np.array([12, 25, 6, 42, 8, 30])\n",
    "\n",
    "print(arr[arr > 20])"
   ]
  },
  {
   "cell_type": "code",
   "execution_count": 35,
   "metadata": {},
   "outputs": [
    {
     "name": "stdout",
     "output_type": "stream",
     "text": [
      "[ 1  5  8 12 15]\n",
      "[12 15]\n"
     ]
    }
   ],
   "source": [
    "# ques69-\" Filter elements which are divisible by 3 from a given NumPy array\"\n",
    "arr = np.array([1, 5, 8, 12, 15])\n",
    "\n",
    "print(arr)\n",
    "print(arr[arr%3==0])"
   ]
  },
  {
   "cell_type": "code",
   "execution_count": 40,
   "metadata": {},
   "outputs": [
    {
     "name": "stdout",
     "output_type": "stream",
     "text": [
      "[10 20 30 40 50]\n",
      "[20 30 40]\n"
     ]
    }
   ],
   "source": [
    "# 70-\". Filter elements which are ≥ 20 and ≤ 40 from a given NumPy array.\"\n",
    "\n",
    "arr = np.array([10, 20, 30, 40, 50])\n",
    "\n",
    "print(arr)\n",
    "\n",
    "print(arr[(arr>=20) & (arr<=40)])"
   ]
  },
  {
   "cell_type": "code",
   "execution_count": 41,
   "metadata": {},
   "outputs": [
    {
     "name": "stdout",
     "output_type": "stream",
     "text": [
      "=\n"
     ]
    }
   ],
   "source": [
    "# ques71-\"For the given NumPy array, check its byte order using the `dtype` attribute byteorder.\"\n",
    "\n",
    "arr = np.array([1, 2, 3])\n",
    "\n",
    "print(arr.dtype.byteorder)\n"
   ]
  },
  {
   "cell_type": "code",
   "execution_count": 44,
   "metadata": {},
   "outputs": [
    {
     "name": "stdout",
     "output_type": "stream",
     "text": [
      "int32\n",
      "[16777216 33554432 50331648]\n"
     ]
    }
   ],
   "source": [
    "# ques72-\"For the given NumPy array, perform byte swapping in place using `byteswap()`.\"\n",
    "\n",
    "arr = np.array([1, 2, 3], dtype=np.int32)\n",
    "\n",
    "print(arr.dtype)\n",
    "\n",
    "arr.byteswap(True)\n",
    "\n",
    "print(arr)\n"
   ]
  },
  {
   "cell_type": "code",
   "execution_count": 49,
   "metadata": {},
   "outputs": [
    {
     "name": "stdout",
     "output_type": "stream",
     "text": [
      "Original array: [1 2 3 4 5]\n",
      "Swapped byte order array: [ 72057594037927936 144115188075855872 216172782113783808\n",
      " 288230376151711744 360287970189639680]\n",
      "Original array after swapping byte order: [1 2 3 4 5]\n"
     ]
    }
   ],
   "source": [
    "# ques73-\"For the given NumPy array, swap its byte order without modifying the original array using `newbyteorder()`.\"\n",
    "\n",
    "import numpy as np\n",
    "\n",
    "arr = np.array([1, 2, 3, 4, 5])\n",
    "print(\"Original array:\", arr)\n",
    "\n",
    "new_arr = arr.view(arr.dtype.newbyteorder())\n",
    "print(\"Swapped byte order array:\", new_arr)\n",
    "\n",
    "print(\"Original array after swapping byte order:\", arr)\n"
   ]
  },
  {
   "cell_type": "code",
   "execution_count": 51,
   "metadata": {},
   "outputs": [
    {
     "name": "stdout",
     "output_type": "stream",
     "text": [
      "Original array: [1 2 3]\n",
      "Swapped byte order array: [1 2 3]\n"
     ]
    }
   ],
   "source": [
    "# ques74-\"For the given NumPy array and swap its byte order conditionally based on system endianness using `newbyteorder()`.\"\n",
    "\n",
    "import numpy as np\n",
    "\n",
    "arr = np.array([1, 2, 3], dtype=np.int32)\n",
    "\n",
    "if arr.dtype.byteorder == '=':\n",
    "    swapped_arr = arr.byteswap().view(arr.dtype.newbyteorder())\n",
    "\n",
    "print(\"Original array:\", arr)\n",
    "print(\"Swapped byte order array:\", swapped_arr)\n",
    "\n",
    "\n"
   ]
  },
  {
   "cell_type": "code",
   "execution_count": 53,
   "metadata": {},
   "outputs": [
    {
     "name": "stdout",
     "output_type": "stream",
     "text": [
      "Array Byte Order: =\n",
      "System Endianness: native\n"
     ]
    }
   ],
   "source": [
    "# ques75-\". For the given NumPy array, check if byte swapping is necessary for the current system using `dtype`attribute `byteorder`.\"\n",
    "\n",
    "import numpy as np\n",
    "\n",
    "arr = np.array([1, 2, 3], dtype=np.int32)\n",
    "\n",
    "byte_order = arr.dtype.byteorder\n",
    "\n",
    "if byte_order == '=':\n",
    "    system_endianness = \"native\"\n",
    "elif byte_order == '<':\n",
    "    system_endianness = \"little-endian\"\n",
    "elif byte_order == '>':\n",
    "    system_endianness = \"big-endian\"\n",
    "\n",
    "print(\"Array Byte Order:\", byte_order)\n",
    "print(\"System Endianness:\", system_endianness)\n"
   ]
  },
  {
   "cell_type": "code",
   "execution_count": 54,
   "metadata": {},
   "outputs": [
    {
     "name": "stdout",
     "output_type": "stream",
     "text": [
      "[ 1  2  3  4  5  6  7  8  9 10]\n",
      "[100   2   3   4   5   6   7   8   9  10]\n"
     ]
    }
   ],
   "source": [
    "# ques76-\"Create a NumPy array `arr1` with values from 1 to 10. Create a copy of `arr1` named `copy_arr` and modify\n",
    "# an element in `copy_arr`. Check if modifying `copy_arr` affects `arr1`.\"\n",
    "\n",
    "import numpy as np\n",
    "\n",
    "arr1 = np.arange(1, 11)\n",
    "copy_arr = arr1.copy()\n",
    "\n",
    "copy_arr[0] = 100\n",
    "\n",
    "print(arr1)\n",
    "print(copy_arr)\n",
    "\n",
    "\n"
   ]
  },
  {
   "cell_type": "code",
   "execution_count": 55,
   "metadata": {},
   "outputs": [
    {
     "name": "stdout",
     "output_type": "stream",
     "text": [
      "Original matrix:\n",
      "[[1 8 2]\n",
      " [6 4 0]\n",
      " [6 3 6]]\n",
      "Slice from the matrix:\n",
      "[[1 8]\n",
      " [6 4]]\n",
      "Modified slice:\n",
      "[[100   8]\n",
      " [  6   4]]\n",
      "Original matrix after modifying the slice:\n",
      "[[100   8   2]\n",
      " [  6   4   0]\n",
      " [  6   3   6]]\n"
     ]
    }
   ],
   "source": [
    "# ques77-\"Create a 2D NumPy array `matrix` of shape (3, 3) with random integers. Extract a slice `view_slice` from\n",
    "# the matrix. Modify an element in `view_slice` and observe if it changes the original `matrix`.\"\n",
    "\n",
    "import numpy as np\n",
    "\n",
    "matrix = np.random.randint(0, 10, (3, 3))\n",
    "print(\"Original matrix:\")\n",
    "print(matrix)\n",
    "\n",
    "view_slice = matrix[:2, :2]\n",
    "print(\"Slice from the matrix:\")\n",
    "print(view_slice)\n",
    "\n",
    "view_slice[0, 0] = 100\n",
    "print(\"Modified slice:\")\n",
    "print(view_slice)\n",
    "\n",
    "print(\"Original matrix after modifying the slice:\")\n",
    "print(matrix)"
   ]
  },
  {
   "cell_type": "code",
   "execution_count": 56,
   "metadata": {},
   "outputs": [
    {
     "name": "stdout",
     "output_type": "stream",
     "text": [
      "array_a: [[ 1  2  3]\n",
      " [ 4  5  6]\n",
      " [ 7  8  9]\n",
      " [10 11 12]]\n",
      "view_b: [[ 2  3]\n",
      " [ 5  6]\n",
      " [ 8  9]\n",
      " [11 12]]\n",
      "view_b after broadcasting: [[ 7  8]\n",
      " [10 11]\n",
      " [13 14]\n",
      " [16 17]]\n",
      "array_a after broadcasting: [[ 1  7  8]\n",
      " [ 4 10 11]\n",
      " [ 7 13 14]\n",
      " [10 16 17]]\n"
     ]
    }
   ],
   "source": [
    "# ques78-\" Create a NumPy array `array_a` of shape (4, 3) with sequential integers from 1 to 12. Extract a slice\n",
    "# `view_b` from `array_a` and broadcast the addition of 5 to view_b. Check if it alters the original `array_a`.\"\n",
    "\n",
    "import numpy as np\n",
    "\n",
    "array_a = np.arange(1, 13).reshape(4, 3)\n",
    "print(\"array_a:\", array_a)\n",
    "\n",
    "view_b = array_a[:, 1:]\n",
    "print(\"view_b:\", view_b)\n",
    "\n",
    "\n",
    "view_b += 5\n",
    "print(\"view_b after broadcasting:\", view_b)\n",
    "\n",
    "print(\"array_a after broadcasting:\", array_a)\n"
   ]
  },
  {
   "cell_type": "code",
   "execution_count": 57,
   "metadata": {},
   "outputs": [
    {
     "name": "stdout",
     "output_type": "stream",
     "text": [
      "Original array_a:\n",
      "[[ 1  2  3]\n",
      " [ 4  5  6]\n",
      " [ 7  8  9]\n",
      " [10 11 12]]\n",
      "\n",
      "Extracted view_b:\n",
      "[ 2  5  8 11]\n",
      "\n",
      "view_b after adding 5:\n",
      "[ 7 10 13 16]\n",
      "\n",
      "array_a after modifying view_b:\n",
      "[[ 1  7  3]\n",
      " [ 4 10  6]\n",
      " [ 7 13  9]\n",
      " [10 16 12]]\n"
     ]
    }
   ],
   "source": [
    "# ques79-\" Create a NumPy array `array_a` of shape (4, 3) with sequential integers from 1 to 12. Extract a slice\n",
    "# `view_b` from `array_a` and broadcast the addition of 5 to view_b. Check if it alters the original `array_a`.\"\n",
    "\n",
    "array_a = np.arange(1, 13).reshape((4, 3))\n",
    "print(\"Original array_a:\")\n",
    "print(array_a)\n",
    "\n",
    "view_b = array_a[:, 1]  \n",
    "print(\"\\nExtracted view_b:\")\n",
    "print(view_b)\n",
    "\n",
    "view_b += 5\n",
    "print(\"\\nview_b after adding 5:\")\n",
    "print(view_b)\n",
    "\n",
    "print(\"\\narray_a after modifying view_b:\")\n",
    "print(array_a)\n"
   ]
  },
  {
   "cell_type": "code",
   "execution_count": 58,
   "metadata": {},
   "outputs": [
    {
     "name": "stdout",
     "output_type": "stream",
     "text": [
      "Original array:\n",
      "[[9 8 1 1]\n",
      " [2 2 8 2]\n",
      " [0 2 5 8]]\n",
      "\n",
      "Copy of elements greater than 5:\n",
      "[9 8 8 8]\n",
      "\n",
      "Modified data_copy:\n",
      "[100   8   8   8]\n",
      "\n",
      "Original data:\n",
      "[[9 8 1 1]\n",
      " [2 2 8 2]\n",
      " [0 2 5 8]]\n"
     ]
    }
   ],
   "source": [
    "# ques80-\"Create a NumPy array `data` of shape (3, 4) with random integers. Extract a copy `data_copy` of\n",
    "# elements greater than 5. Modify an element in `data_copy` and verify if it affects the original `data`.\"\n",
    "\n",
    "data = np.random.randint(10, size=(3, 4))\n",
    "print(\"Original array:\")\n",
    "print(data)\n",
    "\n",
    "data_copy = data[data > 5]\n",
    "print(\"\\nCopy of elements greater than 5:\")\n",
    "print(data_copy)\n",
    "\n",
    "data_copy[0] = 100\n",
    "print(\"\\nModified data_copy:\")\n",
    "print(data_copy)\n",
    "\n",
    "print(\"\\nOriginal data:\")\n",
    "print(data) \n",
    "\n"
   ]
  },
  {
   "cell_type": "code",
   "execution_count": 64,
   "metadata": {},
   "outputs": [
    {
     "name": "stdout",
     "output_type": "stream",
     "text": [
      "A: [[1 2 3]\n",
      " [4 5 6]\n",
      " [7 8 9]]\n",
      "\n",
      "B: [[9 8 7]\n",
      " [6 5 4]\n",
      " [3 2 1]]\n",
      "\n",
      "Addition: [[10 10 10]\n",
      " [10 10 10]\n",
      " [10 10 10]]\n",
      "\n",
      "Subtraction: [[-8 -6 -4]\n",
      " [-2  0  2]\n",
      " [ 4  6  8]]\n"
     ]
    }
   ],
   "source": [
    "# ques81-\"Create two matrices A and B of identical shape containing integers and perform addition and subtraction\n",
    "# operations between them.\"\n",
    "\n",
    "A = np.array([[1, 2, 3], [4, 5, 6], [7, 8, 9]])\n",
    "B = np.array([[9, 8, 7], [6, 5, 4], [3, 2, 1]])\n",
    "\n",
    "print(\"A:\", A)\n",
    "print(\"\\nB:\", B)\n",
    "\n",
    "C = A + B\n",
    "print(\"\\nAddition:\", C)\n",
    "\n",
    "D = A - B\n",
    "print(\"\\nSubtraction:\", D)"
   ]
  },
  {
   "cell_type": "code",
   "execution_count": 75,
   "metadata": {},
   "outputs": [
    {
     "name": "stdout",
     "output_type": "stream",
     "text": [
      "Matrix C:\n",
      " [[9 9]\n",
      " [3 4]\n",
      " [5 2]]\n",
      "Matrix D:\n",
      " [[5 9 0 7]\n",
      " [5 7 4 0]]\n"
     ]
    }
   ],
   "source": [
    "# ques82-\" Generate two matrices `C` (3x2) and `D` (2x4) and perform matrix multiplication.\"\n",
    "\n",
    "import numpy as np\n",
    "\n",
    "C = np.random.randint(10, size=(3, 2))\n",
    "D = np.random.randint(10, size=(2, 4))\n",
    "\n",
    "print(\"Matrix C:\\n\",C)\n",
    "\n",
    "print(\"Matrix D:\\n\",D)\n"
   ]
  },
  {
   "cell_type": "code",
   "execution_count": 76,
   "metadata": {},
   "outputs": [
    {
     "name": "stdout",
     "output_type": "stream",
     "text": [
      "E: [[1 2 3]\n",
      " [4 5 6]\n",
      " [7 8 9]]\n",
      "Transpose of E: [[1 4 7]\n",
      " [2 5 8]\n",
      " [3 6 9]]\n"
     ]
    }
   ],
   "source": [
    "# ques83-\"Create a matrix `E` and find its transpose.\"\n",
    "\n",
    "import numpy as np\n",
    "\n",
    "E = np.array([[1, 2, 3], [4, 5, 6], [7, 8, 9]])\n",
    "print(\"E:\", E)\n",
    "\n",
    "print(\"Transpose of E:\", E.T)\n",
    "\n"
   ]
  },
  {
   "cell_type": "code",
   "execution_count": 77,
   "metadata": {},
   "outputs": [
    {
     "name": "stdout",
     "output_type": "stream",
     "text": [
      "[[7 8 7]\n",
      " [6 7 6]\n",
      " [3 8 9]]\n",
      "6.000000000000027\n"
     ]
    }
   ],
   "source": [
    "# ques84-\"Generate a square matrix `F` and compute its determinant.\"\n",
    "\n",
    "import numpy as np  \n",
    "\n",
    "F = np.random.randint(1,10, size=(3,3))\n",
    "print(F)\n",
    "print(np.linalg.det(F)) \n",
    "\n"
   ]
  },
  {
   "cell_type": "code",
   "execution_count": 79,
   "metadata": {},
   "outputs": [
    {
     "name": "stdout",
     "output_type": "stream",
     "text": [
      "G = \n",
      " [[4 5 6]\n",
      " [6 5 4]\n",
      " [6 9 9]]\n",
      "G_inv = \n",
      " [[ 3.00000000e-01  3.00000000e-01 -3.33333333e-01]\n",
      " [-1.00000000e+00 -8.32667268e-17  6.66666667e-01]\n",
      " [ 8.00000000e-01 -2.00000000e-01 -3.33333333e-01]]\n",
      "G * G_inv = \n",
      " [[ 1.00000000e+00  1.66533454e-16 -1.11022302e-16]\n",
      " [ 0.00000000e+00  1.00000000e+00  0.00000000e+00]\n",
      " [ 2.22044605e-16  2.49800181e-16  1.00000000e+00]]\n"
     ]
    }
   ],
   "source": [
    "# ques85-\"Create a square matrix `G` and find its inverse.\"\n",
    "\n",
    "import numpy as np\n",
    "\n",
    "G = np.random.randint(1, 10, (3, 3))\n",
    "print(\"G = \\n\", G)\n",
    "\n",
    "G_inv = np.linalg.inv(G)\n",
    "print(\"G_inv = \\n\", G_inv)\n",
    "\n",
    "print(\"G * G_inv = \\n\", np.dot(G, G_inv))\n",
    "\n",
    "\n",
    "\n",
    "\n"
   ]
  }
 ],
 "metadata": {
  "kernelspec": {
   "display_name": "env",
   "language": "python",
   "name": "python3"
  },
  "language_info": {
   "codemirror_mode": {
    "name": "ipython",
    "version": 3
   },
   "file_extension": ".py",
   "mimetype": "text/x-python",
   "name": "python",
   "nbconvert_exporter": "python",
   "pygments_lexer": "ipython3",
   "version": "3.12.3"
  }
 },
 "nbformat": 4,
 "nbformat_minor": 2
}
