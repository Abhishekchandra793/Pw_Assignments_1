{
 "cells": [
  {
   "cell_type": "markdown",
   "metadata": {},
   "source": [
    "Assignment2=\"Object Oriented Programming\""
   ]
  },
  {
   "cell_type": "code",
   "execution_count": null,
   "metadata": {},
   "outputs": [],
   "source": [
    "'''ques1- \"Explain the importance of Functions.\"\n",
    "\n",
    "Ans- Its important because its helps to bundle a set of statements together that can be reused. '''"
   ]
  },
  {
   "cell_type": "code",
   "execution_count": 30,
   "metadata": {},
   "outputs": [
    {
     "name": "stdout",
     "output_type": "stream",
     "text": [
      "Hello Abhi\n"
     ]
    }
   ],
   "source": [
    "# ques2- \"Write a basic function to greet students\"\n",
    "\n",
    "def greet(name):\n",
    "    print(\"Hello\",name)\n",
    "    \n",
    "greet(\"Abhi\")"
   ]
  },
  {
   "cell_type": "code",
   "execution_count": 3,
   "metadata": {},
   "outputs": [
    {
     "data": {
      "text/plain": [
       "'ques3-\"What is the difference between print and return statements?\"\\n\\nAns- The print statement is used to display the output on the screen.\\nand return statement is used to return the value from a function.'"
      ]
     },
     "execution_count": 3,
     "metadata": {},
     "output_type": "execute_result"
    }
   ],
   "source": [
    "'''ques3-\"What is the difference between print and return statements?\"\n",
    "\n",
    "Ans- The print statement is used to display the output on the screen.\n",
    "and return statement is used to return the value from a function.'''"
   ]
  },
  {
   "cell_type": "code",
   "execution_count": null,
   "metadata": {},
   "outputs": [],
   "source": [
    "'''ques4-\"What are *args and **kwargs\"\n",
    "\n",
    "ans-*args and **kwargs are used to pass a variable number of arguments to a function.'''"
   ]
  },
  {
   "cell_type": "code",
   "execution_count": null,
   "metadata": {},
   "outputs": [],
   "source": [
    "'''ques5-\"Explain the iterator function.\"\n",
    "\n",
    "ans- Iterator is an object that can be iterated upon. An object which will return data, one element at a time.'''"
   ]
  },
  {
   "cell_type": "code",
   "execution_count": null,
   "metadata": {},
   "outputs": [
    {
     "name": "stdout",
     "output_type": "stream",
     "text": [
      "Squares of numbers from 1 to 5:\n",
      "1\n",
      "4\n",
      "9\n",
      "16\n",
      "25\n"
     ]
    }
   ],
   "source": [
    "# ques6- \"Write a code that generates the squares of numbers from 1 to n using a generator.\"\n",
    "\n",
    "def square_generator(n):\n",
    "   \n",
    "    for i in range(1, n + 1):\n",
    "        yield i ** 2\n",
    "\n",
    "n = 5\n",
    "squares = square_generator(n)\n",
    "\n",
    "print(f\"Squares of numbers from 1 to {n}:\")\n",
    "for square in squares:\n",
    "    print(square)\n"
   ]
  },
  {
   "cell_type": "code",
   "execution_count": 5,
   "metadata": {},
   "outputs": [
    {
     "name": "stdout",
     "output_type": "stream",
     "text": [
      "Palindromic numbers up to 100:\n",
      "1 2 3 4 5 6 7 8 9 11 22 33 44 55 66 77 88 99 "
     ]
    }
   ],
   "source": [
    "# \"ques7-Write a code that generates palindromic numbers up to n using a generator\"\n",
    "\n",
    "def palindromic_numbers(n):\n",
    "    \n",
    "    for num in range(1, n + 1):\n",
    "        if str(num) == str(num)[::-1]:\n",
    "            yield num\n",
    "\n",
    "# Example usage:\n",
    "n = 100\n",
    "palindromes = palindromic_numbers(n)\n",
    "\n",
    "print(f\"Palindromic numbers up to {n}:\")\n",
    "for palindrome in palindromes:\n",
    "    print(palindrome, end=\" \")\n",
    "\n"
   ]
  },
  {
   "cell_type": "code",
   "execution_count": 7,
   "metadata": {},
   "outputs": [
    {
     "name": "stdout",
     "output_type": "stream",
     "text": [
      "2\n",
      "4\n",
      "6\n",
      "8\n"
     ]
    }
   ],
   "source": [
    "# ques8-\" Write a code that generates even numbers from 2 to n using a generator\"\n",
    "\n",
    "def even_numbers(n):\n",
    "    for i in range(2, n+1, 2):\n",
    "        yield i\n",
    "\n",
    "n = int(input(\"Enter a number: \"))\n",
    "even_nums = even_numbers(n)\n",
    "\n",
    "for num in even_nums:\n",
    "    print(num)\n",
    "\n",
    "    "
   ]
  },
  {
   "cell_type": "code",
   "execution_count": 11,
   "metadata": {},
   "outputs": [
    {
     "name": "stdout",
     "output_type": "stream",
     "text": [
      "Powers of two up to 100:\n",
      "1 2 4 8 16 32 64 "
     ]
    }
   ],
   "source": [
    "# ques9-\"Write a code that generates powers of two up to n using a generator\"\n",
    "\n",
    "def powers_of_two(n):\n",
    "\n",
    "    power = 1\n",
    "    while power <= n:\n",
    "        yield power\n",
    "        power *= 2\n",
    "\n",
    "# Example usage:\n",
    "n = 100\n",
    "two_powers = powers_of_two(n)\n",
    "\n",
    "print(f\"Powers of two up to {n}:\")\n",
    "for power in two_powers:\n",
    "    print(power, end=\" \")\n"
   ]
  },
  {
   "cell_type": "code",
   "execution_count": 12,
   "metadata": {},
   "outputs": [
    {
     "name": "stdout",
     "output_type": "stream",
     "text": [
      "Prime numbers up to 8 :\n",
      "2\n",
      "3\n",
      "5\n",
      "7\n"
     ]
    }
   ],
   "source": [
    "# ques10-\"Write a code that generates prime numbers up to n using a generator\"\n",
    "\n",
    "def prime_numbers(n):\n",
    "    for num in range(2, n+1):\n",
    "        for i in range(2,num):\n",
    "            if (num % i) == 0:\n",
    "                break\n",
    "        else:\n",
    "            yield num\n",
    "\n",
    "n = int(input(\"Enter a number: \"))\n",
    "\n",
    "prime_generator = prime_numbers(n)\n",
    "\n",
    "print(\"Prime numbers up to\", n, \":\")\n",
    "\n",
    "for num in prime_generator:\n",
    "    print(num)\n",
    "\n"
   ]
  },
  {
   "cell_type": "code",
   "execution_count": null,
   "metadata": {},
   "outputs": [
    {
     "name": "stdout",
     "output_type": "stream",
     "text": [
      "The sum of 10 and 15 is: 25\n"
     ]
    }
   ],
   "source": [
    "# ques11-\" Write a code that uses a lambda function to calculate the sum of two numbers\"\n",
    "\n",
    "\n",
    "sum_two_numbers = lambda x, y: x + y\n",
    "\n",
    "num1 = 10\n",
    "num2 = 15\n",
    "\n",
    "result = sum_two_numbers(num1, num2)\n",
    "print(f\"The sum of {num1} and {num2} is: {result}\")\n",
    "\n",
    "\n"
   ]
  },
  {
   "cell_type": "code",
   "execution_count": 20,
   "metadata": {},
   "outputs": [
    {
     "name": "stdout",
     "output_type": "stream",
     "text": [
      "The square of 7 is: 49\n"
     ]
    }
   ],
   "source": [
    "# ques12-\"Write a code that uses a lambda function to calculate the square of a given number\"\n",
    "\n",
    "square = lambda x: x ** 2\n",
    "\n",
    "number = 7\n",
    "result = square(number)\n",
    "print(f\"The square of {number} is: {result}\")\n",
    "\n",
    "\n",
    "\n",
    "\n"
   ]
  },
  {
   "cell_type": "code",
   "execution_count": 19,
   "metadata": {},
   "outputs": [
    {
     "name": "stdout",
     "output_type": "stream",
     "text": [
      "16 is Even\n"
     ]
    }
   ],
   "source": [
    "# ques13-\"Write a code that uses a lambda function to check whether a given number is even or odd\"\n",
    "\n",
    "is_even = lambda x: \"Even\" if x % 2 == 0 else \"Odd\"\n",
    "\n",
    "numbers = [16]\n",
    "\n",
    "\n",
    "result = is_even(num)\n",
    "print(f\"{num} is {result}\")\n"
   ]
  },
  {
   "cell_type": "code",
   "execution_count": 22,
   "metadata": {},
   "outputs": [
    {
     "name": "stdout",
     "output_type": "stream",
     "text": [
      "Concatenated string: PW Skills\n"
     ]
    }
   ],
   "source": [
    "# ques14 is not available in pdf\n",
    "# ques15-\"Write a code that uses a lambda function to concatenate two strings\"\n",
    "\n",
    "concatenate = lambda s1, s2: s1 + \" \" + s2\n",
    "\n",
    "string1 = \"PW\"\n",
    "string2 = \"Skills\"\n",
    "result = concatenate(string1, string2)\n",
    "print(f\"Concatenated string: {result}\")\n",
    "\n"
   ]
  },
  {
   "cell_type": "code",
   "execution_count": 1,
   "metadata": {},
   "outputs": [
    {
     "name": "stdout",
     "output_type": "stream",
     "text": [
      "The maximum of 10, 23, 67 is: 67\n"
     ]
    }
   ],
   "source": [
    "# ques16-\"Write a code that uses a lambda function to find the maximum of three given numbers\"\n",
    "\n",
    "max_of_three = lambda a, b, c: max(a, b, c)\n",
    "\n",
    "num1=10\n",
    "num2=23\n",
    "num3=67\n",
    "\n",
    "print(f\"The maximum of {num1}, {num2}, {num3} is: {max_of_three(num1, num2, num3)}\")\n",
    "\n"
   ]
  },
  {
   "cell_type": "code",
   "execution_count": 2,
   "metadata": {},
   "outputs": [
    {
     "name": "stdout",
     "output_type": "stream",
     "text": [
      "Original list: [1, 2, 3, 4, 5, 6, 7, 8, 9, 10]\n",
      "Squares of even numbers: [4, 16, 36, 64, 100]\n"
     ]
    }
   ],
   "source": [
    "# ques17-\"Write a code that generates the squares of even numbers from a given list\"\n",
    "\n",
    "def square_even_numbers(numbers):\n",
    "   \n",
    "    return [num**2 for num in numbers if num % 2 == 0]\n",
    "\n",
    "\n",
    "input_list = [1, 2, 3, 4, 5, 6, 7, 8, 9, 10]\n",
    "result = square_even_numbers(input_list)\n",
    "print(\"Original list:\", input_list)\n",
    "print(\"Squares of even numbers:\", result)\n"
   ]
  },
  {
   "cell_type": "code",
   "execution_count": 4,
   "metadata": {},
   "outputs": [
    {
     "name": "stdout",
     "output_type": "stream",
     "text": [
      "5040\n"
     ]
    }
   ],
   "source": [
    "# ques18-\"Write a code that calculates the product of positive numbers from a given list\"\n",
    "\n",
    "no=[1,2,3,4,5,6,7]\n",
    "\n",
    "product=1\n",
    "\n",
    "for i in no:\n",
    "    if i>0:\n",
    "        product=product*i\n",
    "\n",
    "print(product)\n"
   ]
  },
  {
   "cell_type": "code",
   "execution_count": 5,
   "metadata": {},
   "outputs": [
    {
     "name": "stdout",
     "output_type": "stream",
     "text": [
      "[2, 2, 6, 4, 10, 6, 14, 8, 18, 10]\n"
     ]
    }
   ],
   "source": [
    "# ques19-\"Write a code that doubles the values of odd numbers from a given list\"\n",
    "\n",
    "def double_odd_no(numbers):\n",
    "    for i in range(len(numbers)):\n",
    "        if numbers[i] % 2 != 0:\n",
    "            numbers[i] *= 2\n",
    "    return numbers\n",
    "\n",
    "print(double_odd_no([1, 2, 3, 4, 5, 6, 7, 8, 9, 10]))"
   ]
  },
  {
   "cell_type": "code",
   "execution_count": 8,
   "metadata": {},
   "outputs": [
    {
     "name": "stdout",
     "output_type": "stream",
     "text": [
      "776\n"
     ]
    }
   ],
   "source": [
    "# ques20-\"Write a code that calculates the sum of cubes of numbers from a given list\"\n",
    "\n",
    "num=[1,3,4,5,6,7]\n",
    "\n",
    "sum=0\n",
    "\n",
    "for i in num:\n",
    "    sum=sum+i**3\n",
    "\n",
    "print(sum)"
   ]
  },
  {
   "cell_type": "code",
   "execution_count": 3,
   "metadata": {},
   "outputs": [
    {
     "name": "stdout",
     "output_type": "stream",
     "text": [
      "Prime Numbers: [2, 3, 5, 7]\n"
     ]
    }
   ],
   "source": [
    "# ques21-\" Write a code that filters out prime numbers from a given list\"\n",
    "\n",
    "def is_prime(n):\n",
    "    if n < 2:\n",
    "        return False\n",
    "    for i in range(2, int(n**0.5)+1):\n",
    "        if n % i == 0:\n",
    "            return False\n",
    "    return True\n",
    "\n",
    "def filter_prime_numbers(lst):\n",
    "    return [num for num in lst if is_prime(num)]\n",
    "\n",
    "my_list = [1, 2, 3, 4, 5, 6, 7, 8, 9, 10]\n",
    "print(\"Prime Numbers:\", filter_prime_numbers(my_list))"
   ]
  },
  {
   "cell_type": "code",
   "execution_count": 4,
   "metadata": {},
   "outputs": [
    {
     "name": "stdout",
     "output_type": "stream",
     "text": [
      "15\n"
     ]
    }
   ],
   "source": [
    "# ques22-\"Write a code that uses a lambda function to calculate the sum of two numbers\"\n",
    "\n",
    "def sum_numbers(a, b):\n",
    "    return a + b\n",
    "\n",
    "print(sum_numbers(5, 10))\n"
   ]
  },
  {
   "cell_type": "code",
   "execution_count": 5,
   "metadata": {},
   "outputs": [
    {
     "name": "stdout",
     "output_type": "stream",
     "text": [
      "Square of 7 is 49\n"
     ]
    }
   ],
   "source": [
    "# ques23-\"Write a code that uses a lambda function to calculate the square of a given number\"\n",
    "\n",
    "def square(x):\n",
    "    return x**2\n",
    "\n",
    "num=7\n",
    "print(f\"Square of {num} is {square(num)}\")"
   ]
  },
  {
   "cell_type": "code",
   "execution_count": 2,
   "metadata": {},
   "outputs": [
    {
     "name": "stdout",
     "output_type": "stream",
     "text": [
      "The given number 7 is odd\n"
     ]
    }
   ],
   "source": [
    "# ques24-\"Write a code that uses a lambda function to check whether a given number is even or odd\"\n",
    "\n",
    "input_no= int(input(\"Entre the number\"))\n",
    "\n",
    "even_odd= lambda x: \"even\" if x % 2==0 else \"odd\"\n",
    "\n",
    "print(f\"The given number {input_no} is {even_odd(input_no)}\")\n",
    "\n",
    "\n"
   ]
  },
  {
   "cell_type": "code",
   "execution_count": 3,
   "metadata": {},
   "outputs": [
    {
     "name": "stdout",
     "output_type": "stream",
     "text": [
      "pwskills\n"
     ]
    }
   ],
   "source": [
    "# ques25-\" Write a code that uses a lambda function to concatenate two strings\"\n",
    "\n",
    "input_str=input(\"Entre the 1st string: \")\n",
    "input_str2=input(\"Entre the 2nd string: \")\n",
    "\n",
    "concat_str=lambda x,y:x+y \n",
    "\n",
    "print(concat_str(input_str,input_str2))"
   ]
  },
  {
   "cell_type": "code",
   "execution_count": 4,
   "metadata": {},
   "outputs": [
    {
     "name": "stdout",
     "output_type": "stream",
     "text": [
      "The maximum number is: 87\n"
     ]
    }
   ],
   "source": [
    "# ques26-\"Write a code that uses a lambda function to find the maximum of three given numbers\"\n",
    "\n",
    "a = int(input(\"Enter the first number: \"))\n",
    "b = int(input(\"Enter the second number: \"))\n",
    "c = int(input(\"Enter the third number: \"))\n",
    "\n",
    "max_num = lambda a, b, c: max(a,b,c)\n",
    "\n",
    "print(\"The maximum number is:\", max_num(a,b,c))"
   ]
  },
  {
   "cell_type": "code",
   "execution_count": null,
   "metadata": {},
   "outputs": [],
   "source": [
    "# ques27-\" What is encapsulation in OOP?\"\n",
    "\n",
    "'''Ans- Encapsulation is a fundamental concept in object-oriented programming (OOP) that\n",
    "    involves bundling data and methods that operate on that data within a single unit,\n",
    "    such as a class. Encapsulation allows developers to hide the internal details of an object\n",
    "    from the outside world, making it easier to use and maintain.\n",
    "\n",
    "'''\n",
    "\n"
   ]
  },
  {
   "cell_type": "code",
   "execution_count": null,
   "metadata": {},
   "outputs": [],
   "source": [
    "# ques28-\"Explain the use of access modifiers in Python classes\"\n",
    "\n",
    "'''Ans- Access modifiers in Python classes are used to control the accessibility of class members \n",
    "  (attributes and methods). There are three types of access modifiers:\n",
    "\n",
    "Public: Members with public access modifiers can be accessed from anywhere in the program.\n",
    " \n",
    "Private: Members with private access modifiers can only be accessed within the class or its subclasses.\n",
    "\n",
    "Protected: Members with protected access modifiers can be accessed within the class, its subclasses,\n",
    "  and classes in the same package.  '''"
   ]
  },
  {
   "cell_type": "code",
   "execution_count": null,
   "metadata": {},
   "outputs": [],
   "source": [
    "# ques29-\"What is inheritance in OOP\"\n",
    "\n",
    "'''Ans- Inheritance is a fundamental concept in object-oriented programming (OOP) that allows a class \n",
    "   to inherit attributes and methods from another class. Inheritance is a mechanism that allows a class \n",
    "   to inherit the properties and behavior of another class. This can be useful for code reusability, \n",
    "   as well as for creating a hierarchical relationship between classes.\n",
    "'''"
   ]
  },
  {
   "cell_type": "code",
   "execution_count": null,
   "metadata": {},
   "outputs": [],
   "source": [
    "# ques30-\"Define polymorphism in OOP\"\n",
    "\n",
    "'''ans- Polymorphism is a concept in object-oriented programming that allows objects of different classes \n",
    "to be treated as if they were of the same class. In other words, polymorphism allows us to write code \n",
    "that can work with objects of different classes without knowing their specific types.'''"
   ]
  },
  {
   "cell_type": "code",
   "execution_count": null,
   "metadata": {},
   "outputs": [],
   "source": [
    "# ques31-\"Explain method overriding in Python\"\n",
    "\n",
    "'''ans- Method overriding is a feature of object-oriented programming where a subclass provides a \n",
    "   new implementation for a method that is already defined in its superclass. \n",
    "'''"
   ]
  },
  {
   "cell_type": "code",
   "execution_count": 5,
   "metadata": {},
   "outputs": [
    {
     "name": "stdout",
     "output_type": "stream",
     "text": [
      "Generic Animal sound\n",
      "Woof\n"
     ]
    }
   ],
   "source": [
    "# ques32- \"Define a parent class Animal with a method make_sound that prints \"Generic animal sound\". Create a \n",
    "# child class Dog inheriting from Animal with a method make_sound that prints \"Woof!\"\n",
    "\n",
    "class Animal:\n",
    "    def make_sound(self):\n",
    "        print(\"Generic Animal sound\")\n",
    "\n",
    "class Dog(Animal):\n",
    "    def make_sound(self):\n",
    "        print(\"Woof\")\n",
    "\n",
    "generic_animal= Animal()\n",
    "\n",
    "generic_animal.make_sound()\n",
    "\n",
    "dog= Dog()\n",
    "\n",
    "dog.make_sound()\n"
   ]
  },
  {
   "cell_type": "code",
   "execution_count": 6,
   "metadata": {},
   "outputs": [
    {
     "name": "stdout",
     "output_type": "stream",
     "text": [
      "Dog Runs\n"
     ]
    }
   ],
   "source": [
    "# ques33-\"Define a method move in the Animal class that prints \"Animal moves\". Override the move method in the \n",
    "# Dog class to print \"Dog runs.\"\n",
    "\n",
    "class Animal:\n",
    "    def move(self):\n",
    "        print(\"Animal Moves\")\n",
    "\n",
    "class Dog(Animal):\n",
    "    def move(self):\n",
    "        print(\"Dog Runs\")\n",
    "\n",
    "\n",
    "dog=Dog()\n",
    "\n",
    "dog.move()"
   ]
  },
  {
   "cell_type": "code",
   "execution_count": 8,
   "metadata": {},
   "outputs": [
    {
     "name": "stdout",
     "output_type": "stream",
     "text": [
      "Woof!\n",
      "Giving birth to live young.\n"
     ]
    }
   ],
   "source": [
    "# ques34-\"Create a class Mammal with a method reproduce that prints \"Giving birth to live young.\" Create a class \n",
    "# DogMammal inheriting from both Dog and Mammal\"\n",
    "\n",
    "class Animal:\n",
    "    def make_sound(self):\n",
    "        print(\"Generic animal sound\")\n",
    "\n",
    "class Dog(Animal):\n",
    "    def make_sound(self):\n",
    "        print(\"Woof!\")\n",
    "\n",
    "class Mammal:\n",
    "    def reproduce(self):\n",
    "        print(\"Giving birth to live young.\")\n",
    "\n",
    "class DogMammal(Dog, Mammal):\n",
    "    pass\n",
    "\n",
    "dog_mammal = DogMammal()\n",
    "dog_mammal.make_sound()  \n",
    "dog_mammal.reproduce()    \n"
   ]
  },
  {
   "cell_type": "code",
   "execution_count": 11,
   "metadata": {},
   "outputs": [
    {
     "name": "stdout",
     "output_type": "stream",
     "text": [
      "Woof woof\n",
      "Bark\n"
     ]
    }
   ],
   "source": [
    "# ques35-\"Create a class GermanShepherd inheriting from Dog and override the make_sound method to print \n",
    "# \"Bark!\"\n",
    "\n",
    "class Dog:\n",
    "    def __init__(self):\n",
    "        self.name = \"Dog\"\n",
    "\n",
    "    def make_sound(self):\n",
    "        print(\"Woof woof\")\n",
    "\n",
    "\n",
    "class GermanShepherd(Dog):\n",
    "    def __init__(self):\n",
    "        super().__init__()\n",
    "        self.name = \"German Shepherd\"\n",
    "\n",
    "    def make_sound(self):\n",
    "        print(\"Bark\")\n",
    "\n",
    "\n",
    "dog = Dog()\n",
    "dog.make_sound()\n",
    "\n",
    "german_shepherd = GermanShepherd()\n",
    "german_shepherd.make_sound()"
   ]
  },
  {
   "cell_type": "code",
   "execution_count": 17,
   "metadata": {},
   "outputs": [
    {
     "name": "stdout",
     "output_type": "stream",
     "text": [
      "Buddy\n",
      "Max\n",
      "Rocky\n"
     ]
    }
   ],
   "source": [
    "# ques36-\"Define constructors in both the Animal and Dog classes with different initialization parameters\"\n",
    "\n",
    "class Animal:\n",
    "    def __init__(self, name, age):\n",
    "        self.name = name\n",
    "        self.age = age  \n",
    "\n",
    "class Dog(Animal):\n",
    "    def __init__(self, name, age, breed):\n",
    "        super().__init__(name, age)\n",
    "        self.breed = breed\n",
    "\n",
    "dog1 = Dog(\"Buddy\", 3, \"Golden Retriever\")\n",
    "print(dog1.name)\n",
    "\n",
    "dog2 = Dog(\"Max\", 5, \"Labrador\")\n",
    "print(dog2.name)\n",
    "\n",
    "dog3 = Dog(\"Rocky\", 2, \"Roadside Dog\")\n",
    "print(dog3.name)\n",
    "\n"
   ]
  },
  {
   "cell_type": "code",
   "execution_count": null,
   "metadata": {},
   "outputs": [],
   "source": [
    "# ques37-\" What is abstraction in Python? How is it implemented\"\n",
    "\n",
    "'''ans- Abstraction is a fundamental concept in object-oriented programming (OOP) that refers to the process\n",
    "        of hiding the implementation details of a class and exposing only the necessary information to the user.\n",
    "        In Python, abstraction is achieved through the use of abstract classes and interfaces. \n",
    "'''"
   ]
  },
  {
   "cell_type": "code",
   "execution_count": null,
   "metadata": {},
   "outputs": [],
   "source": [
    "# ques38-\"Explain the importance of abstraction in object-oriented programming\"\n",
    "\n",
    "'''ans- Abstraction is the process of hiding the implementation details and exposing only the essential features \n",
    "        of an object. It allows us to focus on the functionality of an object rather than its internal structure. \n",
    "        This makes code more modular, easier to maintain, and easier to understand.'''"
   ]
  },
  {
   "cell_type": "code",
   "execution_count": null,
   "metadata": {},
   "outputs": [],
   "source": [
    "# ques39-\"How are abstract methods different from regular methods in Python\"\n",
    "\n",
    "'''ans- Abstract methods are methods that are declared in a class but not implemented. They are meant to be \n",
    "        overridden by the subclass.'''"
   ]
  },
  {
   "cell_type": "code",
   "execution_count": null,
   "metadata": {},
   "outputs": [],
   "source": [
    "# ques40-\"How can you achieve abstraction using interfaces in Python\"\n",
    "\n",
    "'''ans- Abstraction is a way of hiding the implementation details of a class and only exposing the necessary\n",
    "        methods and properties to the user. In Python, interfaces are implemented using abstract classes. \n",
    "        An abstract class is a class that contains one or more abstract methods, which are methods that are \n",
    "        declared but not implemented. Abstract methods are methods that are meant to be overridden by subclasses.'''"
   ]
  },
  {
   "cell_type": "code",
   "execution_count": 4,
   "metadata": {},
   "outputs": [
    {
     "name": "stdout",
     "output_type": "stream",
     "text": [
      "The seating capacity of a School Volvo is 50 passengers\n",
      "The seating capacity of a Audi Q5 is 5 passengers\n",
      "The seating capacity of a Tata Truck is 2 passengers\n"
     ]
    }
   ],
   "source": [
    "# ques41-\"Can you provide an example of how abstraction can be utilized to create a common interface for a group \n",
    "# of related classes in Python\"\n",
    "\n",
    "class Vehicle:\n",
    "    def __init__(self, name, speed, mileage):\n",
    "        self.name = name\n",
    "        self.speed = speed\n",
    "        self.mileage = mileage\n",
    "\n",
    "    def seating_capacity(self, capacity):\n",
    "        return f\"The seating capacity of a {self.name} is {capacity} passengers\"\n",
    "\n",
    "class Bus(Vehicle):\n",
    "    def seating_capacity(self, capacity=50):\n",
    "        return super().seating_capacity(capacity)\n",
    "\n",
    "class Car(Vehicle):\n",
    "    def seating_capacity(self, capacity=5):\n",
    "        return super().seating_capacity(capacity)\n",
    "\n",
    "class Truck(Vehicle):\n",
    "    def seating_capacity(self, capacity=2):\n",
    "        return super().seating_capacity(capacity)\n",
    "\n",
    "\n",
    "bus = Bus(\"School Volvo\", 180, 12)\n",
    "car = Car(\"Audi Q5\", 240, 18)\n",
    "truck = Truck(\"Tata Truck\", 120, 15)\n",
    "\n",
    "\n",
    "print(bus.seating_capacity())  \n",
    "print(car.seating_capacity())  \n",
    "print(truck.seating_capacity())  \n",
    "\n"
   ]
  },
  {
   "cell_type": "code",
   "execution_count": null,
   "metadata": {},
   "outputs": [],
   "source": [
    "#ques42- How does Python achieve polymorphism through method overriding\n",
    "\n",
    "'''Inheritance: Python uses inheritance to create a hierarchy of classes. A child class can inherit methods \n",
    "    from its parent class.\n",
    "\n",
    "Method Overriding: The child class can redefine a method that it inherits from the parent class. \n",
    "    This is called method overriding.\n",
    "\n",
    "Runtime Determination: When a method is called on an object, Python determines at runtime which method \n",
    "    implementation to use based on the object's actual type.'''"
   ]
  },
  {
   "cell_type": "code",
   "execution_count": 5,
   "metadata": {},
   "outputs": [
    {
     "name": "stdout",
     "output_type": "stream",
     "text": [
      "Generic Shape area: Area calculation not implemented for this shape\n",
      "Rectangle area: 15\n"
     ]
    }
   ],
   "source": [
    "# ques43- \"Define a base class with a method and a subclass that overrides the method\"\n",
    "\n",
    "class Shape:\n",
    "    def __init__(self, name):\n",
    "        self.name = name\n",
    "\n",
    "    def area(self):\n",
    "        return \"Area calculation not implemented for this shape\"\n",
    "\n",
    "class Rectangle(Shape):\n",
    "    def __init__(self, name, width, height):\n",
    "        super().__init__(name)\n",
    "        self.width = width\n",
    "        self.height = height\n",
    "\n",
    "    def area(self):\n",
    "        return self.width * self.height\n",
    "\n",
    "shape = Shape(\"Generic Shape\")\n",
    "print(f\"{shape.name} area: {shape.area()}\")\n",
    "\n",
    "rectangle = Rectangle(\"Rectangle\", 5, 3)\n",
    "print(f\"{rectangle.name} area: {rectangle.area()}\")\n"
   ]
  },
  {
   "cell_type": "code",
   "execution_count": 6,
   "metadata": {},
   "outputs": [
    {
     "name": "stdout",
     "output_type": "stream",
     "text": [
      "Woof!\n",
      "Meow!\n",
      "Moo!\n",
      "Hiss!\n"
     ]
    }
   ],
   "source": [
    "# ques44-\"Define a base class and multiple subclasses with overridden methods\"\n",
    "\n",
    "class Animal:\n",
    "    def make_sound(self):\n",
    "        \"\"\"Base method to be overridden in subclasses.\"\"\"\n",
    "        print(\"Some generic animal sound\")\n",
    "\n",
    "class Dog(Animal):\n",
    "    def make_sound(self):\n",
    "        print(\"Woof!\")\n",
    "\n",
    "class Cat(Animal):\n",
    "    def make_sound(self):\n",
    "        print(\"Meow!\")\n",
    "\n",
    "\n",
    "class Cow(Animal):\n",
    "    def make_sound(self):\n",
    "        print(\"Moo!\")\n",
    "\n",
    "\n",
    "class Snake(Animal):\n",
    "    def make_sound(self):\n",
    "        print(\"Hiss!\")\n",
    "\n",
    "animals = [Dog(), Cat(), Cow(), Snake()]\n",
    "\n",
    "for animal in animals:\n",
    "    animal.make_sound()\n"
   ]
  },
  {
   "cell_type": "code",
   "execution_count": null,
   "metadata": {},
   "outputs": [],
   "source": [
    "# ques45-\"How does polymorphism improve code readability and reusability?\"\n",
    "\n",
    "'''Ans: Polymorphism improves code readability and reusability by allowing different classes to have \n",
    "   the same method names, but with different implementations. This allows for more concise and understandable \n",
    "   code, as the same method name can be used in different contexts.'''"
   ]
  },
  {
   "cell_type": "code",
   "execution_count": null,
   "metadata": {},
   "outputs": [],
   "source": [
    "# ques46-\"Describe how Python supports polymorphism with duck typing\"\n",
    "\n",
    "'''ans- Polymorphism is a feature of object-oriented programming that allows objects of different classes to be \n",
    "    used interchangeably in the same context. In Python, polymorphism is supported by duck typing, which means that\n",
    "    an object'''"
   ]
  },
  {
   "cell_type": "code",
   "execution_count": null,
   "metadata": {},
   "outputs": [],
   "source": [
    "# ques47-\" How do you achieve encapsulation in Python\"\n",
    "\n",
    "'''Ans: Encapsulation is a way of restricting access to methods and variables within a class.\n",
    "    In Python, we can achieve encapsulation by using the double underscore prefix before the name of a variable\n",
    "    or method.'''"
   ]
  },
  {
   "cell_type": "code",
   "execution_count": null,
   "metadata": {},
   "outputs": [],
   "source": [
    "# ques48-\"Can encapsulation be bypassed in Python? If so, how?\"\n",
    "\n",
    "'''Ans- Yes, encapsulation can be bypassed in Python. This can be done by using the __dict__ attribute of the class.'''"
   ]
  },
  {
   "cell_type": "code",
   "execution_count": 10,
   "metadata": {},
   "outputs": [
    {
     "name": "stdout",
     "output_type": "stream",
     "text": [
      "1000\n"
     ]
    }
   ],
   "source": [
    "# ques49-\" Implement a class BankAccount with a private balance attribute. Include methods to deposit, withdraw,\n",
    "# and check the balance\"\n",
    "\n",
    "class BankAccount:\n",
    "    def __init__ (self, balance=0):\n",
    "        self.balance=balance\n",
    "\n",
    "    def deposit(self, amount):\n",
    "        self.balance+=amount\n",
    "        return self.balance\n",
    "\n",
    "    def withdraw(self, amount):\n",
    "        if amount>self.balance:\n",
    "            print(\"Insufficient funds\")\n",
    "        else:\n",
    "            self.balance-=amount\n",
    "            return self.balance\n",
    "\n",
    "    def check_balance(self):\n",
    "        return self.balance \n",
    "    \n",
    "\n",
    "account=BankAccount()\n",
    "print(account.deposit(1000))"
   ]
  },
  {
   "cell_type": "code",
   "execution_count": 29,
   "metadata": {},
   "outputs": [
    {
     "name": "stdout",
     "output_type": "stream",
     "text": [
      "Abhi\n",
      "gmail.com\n"
     ]
    }
   ],
   "source": [
    "# ques50-\"Develop a Person class with private attributes name and email, and methods to set and get the email\"\n",
    "\n",
    "class Person:\n",
    "    def __init__(self, name, email):\n",
    "        self.__name = name\n",
    "        self.__email = email\n",
    "\n",
    "    def get_name(self):\n",
    "        return self.__name\n",
    "\n",
    "    def get_email(self):\n",
    "        return self.__email\n",
    "\n",
    "    def set_email(self, email):\n",
    "        self.__email = email\n",
    "\n",
    "person = Person(\"Abhi\", \"gmail.com\")\n",
    "\n",
    "print(person.get_name())\n",
    "print(person.get_email())"
   ]
  },
  {
   "cell_type": "code",
   "execution_count": null,
   "metadata": {},
   "outputs": [],
   "source": [
    "# ques51-\"Why is encapsulation considered a pillar of object-oriented programming (OOP)?\"\n",
    "\n",
    "'''ans- Encapsulation is considered a pillar of OOP because it helps to hide the implementation details of an \n",
    "    object from the outside world. This helps to prevent the accidental modification of the object'''"
   ]
  },
  {
   "cell_type": "code",
   "execution_count": 12,
   "metadata": {},
   "outputs": [
    {
     "name": "stdout",
     "output_type": "stream",
     "text": [
      "before function execution\n",
      "function execution\n",
      "after function execution\n"
     ]
    }
   ],
   "source": [
    "# ques52-\"Create a decorator in Python that adds functionality to a simple function by printing a message before\n",
    "# and after the function execution\"\n",
    "\n",
    "def decorator(func):\n",
    "    def inner():\n",
    "        print(\"before function execution\")\n",
    "        func()\n",
    "        print(\"after function execution\")\n",
    "    return inner    \n",
    "\n",
    "@decorator\n",
    "def func():\n",
    "    print(\"function execution\")\n",
    "\n",
    "func()\n"
   ]
  },
  {
   "cell_type": "code",
   "execution_count": 28,
   "metadata": {},
   "outputs": [
    {
     "name": "stdout",
     "output_type": "stream",
     "text": [
      "Function name: greet\n",
      "Hello, Abhi!\n"
     ]
    }
   ],
   "source": [
    "# ques53-\" Modify the decorator to accept arguments and print the function name along with the message\"\n",
    "\n",
    "def decorator(func):\n",
    "    def wrapper(*args, **kwargs):\n",
    "        print(\"Function name:\", func.__name__)\n",
    "        return func(*args, **kwargs)\n",
    "    return wrapper  \n",
    "\n",
    "@decorator\n",
    "def greet(name):\n",
    "    return f\"Hello, {name}!\"\n",
    "\n",
    "print(greet(\"Abhi\"))\n",
    "\n"
   ]
  },
  {
   "cell_type": "code",
   "execution_count": 14,
   "metadata": {},
   "outputs": [
    {
     "name": "stdout",
     "output_type": "stream",
     "text": [
      "Decorator 1\n",
      "Decorator 2\n",
      "My function\n"
     ]
    }
   ],
   "source": [
    "# ques54-\"Create two decorators, and apply them to a single function. Ensure that they execute in the order they are\n",
    "# applied\"\n",
    "\n",
    "def decorator1(func):\n",
    "    def wrapper():\n",
    "        print(\"Decorator 1\")\n",
    "        func()\n",
    "    return wrapper  \n",
    "\n",
    "def decorator2(func):\n",
    "    def wrapper():\n",
    "        print(\"Decorator 2\")\n",
    "        func()\n",
    "    return wrapper\n",
    "\n",
    "@decorator1\n",
    "@decorator2\n",
    "\n",
    "def my_function():\n",
    "    print(\"My function\")\n",
    "\n",
    "my_function()\n",
    "\n"
   ]
  },
  {
   "cell_type": "code",
   "execution_count": 15,
   "metadata": {},
   "outputs": [
    {
     "name": "stdout",
     "output_type": "stream",
     "text": [
      "Calling decorated function\n",
      "Decorated function called with arguments: 1 2\n"
     ]
    }
   ],
   "source": [
    "# ques55-\"Modify the decorator to accept and pass function arguments to the wrapped function\"\n",
    "\n",
    "def decorator(func):\n",
    "    def wrapper(*args, **kwargs):\n",
    "        print(\"Calling decorated function\")\n",
    "        return func(*args, **kwargs)\n",
    "    return wrapper\n",
    "\n",
    "@decorator\n",
    "def decorated_function(arg1, arg2):\n",
    "    print(\"Decorated function called with arguments:\", arg1, arg2)\n",
    "\n",
    "decorated_function(1, 2)\n",
    "\n"
   ]
  },
  {
   "cell_type": "code",
   "execution_count": 17,
   "metadata": {},
   "outputs": [
    {
     "name": "stdout",
     "output_type": "stream",
     "text": [
      "wrapper\n",
      "None\n"
     ]
    }
   ],
   "source": [
    "# ques56-\"Create a decorator that preserves the metadata of the original function\"\n",
    "\n",
    "def decorator(func):\n",
    "    def wrapper(*args, **kwargs):\n",
    "        return func(*args, **kwargs)\n",
    "    return wrapper\n",
    "\n",
    "@decorator\n",
    "def my_function():\n",
    "    pass\n",
    "\n",
    "print(my_function.__name__)\n",
    "print(my_function.__doc__)\n",
    "\n"
   ]
  },
  {
   "cell_type": "code",
   "execution_count": 18,
   "metadata": {},
   "outputs": [
    {
     "name": "stdout",
     "output_type": "stream",
     "text": [
      "30\n",
      "300\n"
     ]
    }
   ],
   "source": [
    "# ques57-\" Create a Python class `Calculator` with a static method `add` that takes in two numbers and returns their\n",
    "# sum\"\n",
    "\n",
    "class Calculator:\n",
    "    @staticmethod\n",
    "    def add(a, b):\n",
    "        return a + b\n",
    "    \n",
    "print(Calculator.add(10, 20))\n",
    "print(Calculator.add(100, 200))"
   ]
  },
  {
   "cell_type": "code",
   "execution_count": 27,
   "metadata": {},
   "outputs": [
    {
     "name": "stdout",
     "output_type": "stream",
     "text": [
      "3\n"
     ]
    }
   ],
   "source": [
    "# ques58-\"Create a Python class `Employee` with a class `method get_employee_count` that returns the total\n",
    "# number of employees created\"\n",
    "\n",
    "class Employee:\n",
    "    count = 0\n",
    "    def __init__(self, name, salary):\n",
    "        self.name = name\n",
    "        self.salary = salary\n",
    "        Employee.count += 1\n",
    "\n",
    "    def get_employee_count():\n",
    "        return Employee.count   \n",
    "    \n",
    "\n",
    "e1 = Employee(\"Aman\", 5000) \n",
    "e2 = Employee(\"Chandu\", 6000)\n",
    "e3 = Employee(\"Ram\", 7000)\n",
    "\n",
    "print(Employee.get_employee_count())"
   ]
  },
  {
   "cell_type": "code",
   "execution_count": 21,
   "metadata": {},
   "outputs": [
    {
     "name": "stdout",
     "output_type": "stream",
     "text": [
      "SLLIKSWP\n"
     ]
    }
   ],
   "source": [
    "# ques59-\"Create a Python class `StringFormatter` with a static method `reverse_string` that takes a string as input\n",
    "# and returns its reverse\"\n",
    "\n",
    "class StringFormatter:\n",
    "    @staticmethod\n",
    "    def reverse_string(string):\n",
    "        return string[::-1]\n",
    "    \n",
    "\n",
    "print(StringFormatter.reverse_string(\"PWSKILLS\"))\n",
    "\n"
   ]
  },
  {
   "cell_type": "code",
   "execution_count": 23,
   "metadata": {},
   "outputs": [
    {
     "name": "stdout",
     "output_type": "stream",
     "text": [
      "78.5\n"
     ]
    }
   ],
   "source": [
    "# ques60-\"Create a Python class `Circle` with a class method `calculate_area` that calculates the area of a circle\n",
    "# given its radius\"\n",
    "\n",
    "class Circle:\n",
    "    def __init__(self, radius):\n",
    "        self.radius = radius\n",
    "\n",
    "    @classmethod\n",
    "    def calculate_area(cls, radius):\n",
    "       return 3.14 * radius * radius\n",
    "    \n",
    "circle = Circle(5)\n",
    "print(circle.calculate_area(5))\n",
    "\n"
   ]
  },
  {
   "cell_type": "code",
   "execution_count": 24,
   "metadata": {},
   "outputs": [
    {
     "name": "stdout",
     "output_type": "stream",
     "text": [
      "25°C is equal to 77.0°F\n"
     ]
    }
   ],
   "source": [
    "# ques61-\"Create a Python class `TemperatureConverter` with a static method `celsius_to_fahrenheit` that converts\n",
    "# Celsius to Fahrenheit\"\n",
    "\n",
    "class TemperatureConverter:\n",
    "    @staticmethod\n",
    "    def celsius_to_fahrenheit(celsius):\n",
    "        return (celsius * 9/5) + 32\n",
    "    \n",
    "\n",
    "celsius = 25\n",
    "fahrenheit = TemperatureConverter.celsius_to_fahrenheit(celsius)\n",
    "print(f\"{celsius}°C is equal to {fahrenheit}°F\")    \n"
   ]
  },
  {
   "cell_type": "code",
   "execution_count": 26,
   "metadata": {},
   "outputs": [
    {
     "name": "stdout",
     "output_type": "stream",
     "text": [
      "Aman is 30 years old\n"
     ]
    }
   ],
   "source": [
    "# ques62-\"What is the purpose of the __str__() method in Python classes? Provide an example\"\n",
    "\n",
    "class Person:\n",
    "    def __init__(self, name, age):\n",
    "        self.name = name\n",
    "        self.age = age\n",
    "\n",
    "    def __str__(self):\n",
    "      return f\"{self.name} is {self.age} years old\"\n",
    "    \n",
    "person = Person(\"Aman\", 30)\n",
    "print(person)"
   ]
  },
  {
   "cell_type": "code",
   "execution_count": 31,
   "metadata": {},
   "outputs": [
    {
     "name": "stdout",
     "output_type": "stream",
     "text": [
      "5\n"
     ]
    }
   ],
   "source": [
    "# ques63-\"How does the __len__() method work in Python? Provide an example\"\n",
    "\n",
    "\"ans-The __len__() method is used to return the length of the object.\"\n",
    "\n",
    "\"Example:\"\n",
    "\n",
    "class MyClass:\n",
    "    def __init__(self, my_list):\n",
    "        self.my_list = my_list\n",
    "\n",
    "    def __len__(self):\n",
    "        return len(self.my_list)\n",
    "    \n",
    "my_obj = MyClass([1, 2, 3, 4, 5])\n",
    "print(len(my_obj))"
   ]
  },
  {
   "cell_type": "code",
   "execution_count": 32,
   "metadata": {},
   "outputs": [
    {
     "name": "stdout",
     "output_type": "stream",
     "text": [
      "4 6\n"
     ]
    }
   ],
   "source": [
    "# ques64-\" Explain the usage of the __add__() method in Python classes. Provide an example\"\n",
    "\n",
    "'''ans- The __add__() method is used to add two objects of the same class. It is called when the + operator is \n",
    "used between two objects of the same class. For example, if we have a class called 'Point' with attributes 'x' \n",
    "and 'y', we can define the __add__() method to add the coordinates of two points together.'''\n",
    "\n",
    "class Point:\n",
    "    def __init__(self, x, y):\n",
    "        self.x = x\n",
    "        self.y = y\n",
    "\n",
    "    def __add__(self, other):\n",
    "       return Point(self.x + other.x, self.y + other.y)\n",
    "    \n",
    "p1 = Point(1, 2)\n",
    "p2 = Point(3, 4)\n",
    "p3 = p1 + p2\n",
    "\n",
    "print(p3.x, p3.y)"
   ]
  },
  {
   "cell_type": "code",
   "execution_count": 1,
   "metadata": {},
   "outputs": [
    {
     "name": "stdout",
     "output_type": "stream",
     "text": [
      "10\n",
      "30\n"
     ]
    }
   ],
   "source": [
    "# ques65-\"What is the purpose of the __getitem__() method in Python? Provide an example\"\n",
    "\n",
    "'''ans- The __getitem__() method is used to retrieve the value of a specific key in a dictionary. It is called\n",
    " when you use the square brackets [] notation to access a key in a dictionary.'''\n",
    "\n",
    "# Example:\n",
    "\n",
    "class CustomList:\n",
    "    def __init__(self, items):\n",
    "        self.items = items  \n",
    "\n",
    "    def __getitem__(self, index):\n",
    "        return self.items[index] \n",
    "\n",
    "\n",
    "my_list = CustomList([10, 20, 30, 40])\n",
    "\n",
    "\n",
    "print(my_list[0]) \n",
    "print(my_list[2])  \n",
    "\n"
   ]
  },
  {
   "cell_type": "code",
   "execution_count": 3,
   "metadata": {},
   "outputs": [
    {
     "name": "stdout",
     "output_type": "stream",
     "text": [
      "0\n",
      "1\n",
      "2\n",
      "3\n",
      "4\n"
     ]
    }
   ],
   "source": [
    "# ques66-\"Explain the usage of the __iter__() and __next__() methods in Python. Provide an example using\n",
    "# iterators\"\n",
    "\n",
    "'''ans- The __iter__() method is used to initialize the iterator object and returns the iterator object.'''\n",
    "\n",
    "'''The __next__() method is used to iterate over the iterator object and returns the next value.'''\n",
    "\n",
    "# Example\n",
    "\n",
    "class MyIterator:\n",
    "    def __init__(self, limit):\n",
    "        self.limit = limit  \n",
    "        self.current = 0    \n",
    "\n",
    "    def __iter__(self):\n",
    "        return self  \n",
    "\n",
    "    def __next__(self):\n",
    "        if self.current < self.limit:\n",
    "            self.current += 1\n",
    "            return self.current - 1  \n",
    "        else:\n",
    "            raise StopIteration  \n",
    "\n",
    "\n",
    "iterator = MyIterator(5)  \n",
    "\n",
    "for number in iterator: \n",
    "    print(number)\n"
   ]
  },
  {
   "cell_type": "code",
   "execution_count": 4,
   "metadata": {},
   "outputs": [
    {
     "name": "stdout",
     "output_type": "stream",
     "text": [
      "25\n"
     ]
    }
   ],
   "source": [
    "# ques67-\"/ What is the purpose of a getter method in Python? Provide an example demonstrating the use of a getter\n",
    "# method using property decorators\"\n",
    "\n",
    "'''ans- The purpose of a getter method in Python is to provide a way to access the value of an object'''\n",
    "\n",
    "\n",
    "class Person:\n",
    "    def __init__(self, name, age):\n",
    "        self.name = name\n",
    "        self.age = age\n",
    "\n",
    "    @property\n",
    "    def age(self):\n",
    "        return self._age\n",
    "\n",
    "    @age.setter\n",
    "    def age(self, value):\n",
    "        if value < 0:\n",
    "            raise ValueError(\"Age cannot be negative\")\n",
    "        self._age = value\n",
    "\n",
    "\n",
    "person = Person(\"Abhi\", 25)\n",
    "print(person.age) "
   ]
  },
  {
   "cell_type": "code",
   "execution_count": 5,
   "metadata": {},
   "outputs": [
    {
     "name": "stdout",
     "output_type": "stream",
     "text": [
      "20\n"
     ]
    }
   ],
   "source": [
    "# ques68-\"Explain the role of setter methods in Python. Demonstrate how to use a setter method to modify a class\n",
    "# attribute using property decorators\"\n",
    "\n",
    "'''ans- Setter methods are used to modify the value of an attribute of a class. They are used to set the value \n",
    "of an attribute after it has been initialized. Setter methods are used to ensure that the value of an attribute'''\n",
    "\n",
    "\n",
    "class Student:\n",
    "    def __init__(self, name, age):\n",
    "        self.name = name\n",
    "        self.age = age\n",
    "\n",
    "    @property\n",
    "    def age(self):\n",
    "        return self._age\n",
    "\n",
    "    @age.setter\n",
    "    def age(self, value):\n",
    "        if value < 0:\n",
    "            raise ValueError(\"Age cannot be negative\")\n",
    "        self._age = value\n",
    "\n",
    "student = Student(\"Abhi\", 20)\n",
    "print(student.age)  "
   ]
  },
  {
   "cell_type": "code",
   "execution_count": 13,
   "metadata": {},
   "outputs": [
    {
     "name": "stdout",
     "output_type": "stream",
     "text": [
      "25\n",
      "30\n"
     ]
    }
   ],
   "source": [
    "# ques69-\"What is the purpose of the @property decorator in Python? Provide an example illustrating its usage\"\n",
    "\n",
    "'''ans- The @property decorator in Python is used to define a property of a class. It allows us to define a method\n",
    "     that can be accessed as an attribute of an object, just like a regular attribute.'''\n",
    "\n",
    "class Person:\n",
    "    def __init__(self, name, age):\n",
    "        self.name = name\n",
    "        self.age = age\n",
    "\n",
    "    @property\n",
    "    def age(self):\n",
    "        return self._age\n",
    "\n",
    "    @age.setter\n",
    "    def age(self, value):\n",
    "        if value < 0:  \n",
    "            raise ValueError(\"Age cannot be negative\")\n",
    "        self._age = value\n",
    "\n",
    "person = Person(\"Aman\", 25)\n",
    "print(person.age) \n",
    "\n",
    "person.age = 30\n",
    "print(person.age)\n",
    "\n",
    "\n",
    "\n"
   ]
  },
  {
   "cell_type": "code",
   "execution_count": 10,
   "metadata": {},
   "outputs": [
    {
     "name": "stdout",
     "output_type": "stream",
     "text": [
      "Initial Salary: 50000\n",
      "Updated Salary: 60000\n",
      "Deleting salary...\n"
     ]
    }
   ],
   "source": [
    "# ques70-\"/ Explain the use of the @deleter decorator in Python property decorators. Provide a code example\n",
    "# demonstrating its application\"\n",
    "\n",
    "'''ans- The @deleter decorator is used to define a method that will be called when an attribute is deleted \n",
    "    using the del statement.'''\n",
    "\n",
    "class Employee:\n",
    "    def __init__(self, name, salary):\n",
    "        self._name = name\n",
    "        self._salary = salary\n",
    "\n",
    "    @property\n",
    "    def salary(self):\n",
    "        \"\"\"Getter for salary\"\"\"\n",
    "        return self._salary\n",
    "\n",
    "    @salary.setter\n",
    "    def salary(self, value):\n",
    "        \"\"\"Setter for salary\"\"\"\n",
    "        if value < 0:\n",
    "            raise ValueError(\"Salary cannot be negative!\")\n",
    "        self._salary = value\n",
    "\n",
    "    @salary.deleter\n",
    "    def salary(self):\n",
    "        \"\"\"Deleter for salary\"\"\"\n",
    "        print(\"Deleting salary...\")\n",
    "        del self._salary\n",
    "\n",
    "emp = Employee(\"Aman\", 50000)\n",
    "\n",
    "print(f\"Initial Salary: {emp.salary}\") \n",
    "\n",
    "emp.salary = 60000\n",
    "print(f\"Updated Salary: {emp.salary}\")\n",
    "\n",
    "\n",
    "del emp.salary  \n",
    "\n"
   ]
  },
  {
   "cell_type": "code",
   "execution_count": 14,
   "metadata": {},
   "outputs": [
    {
     "name": "stdout",
     "output_type": "stream",
     "text": [
      "Jagdish\n",
      "30\n",
      "Deepak\n",
      "25\n"
     ]
    }
   ],
   "source": [
    "# ques71-\"How does encapsulation relate to property decorators in Python? Provide an example showcasing\n",
    "# encapsulation using property decorators.\"\n",
    "\n",
    "'''ans- Encapsulation is a way of hiding the internal implementation of an object from the outside world.'''\n",
    "\n",
    "class Person:\n",
    "    def __init__(self, name, age):\n",
    "        self._name = name\n",
    "        self._age = age\n",
    "\n",
    "    @property\n",
    "    def name(self):\n",
    "        return self._name\n",
    "\n",
    "    @name.setter\n",
    "    def name(self, value):\n",
    "        self._name = value\n",
    "\n",
    "    @property\n",
    "    def age(self):\n",
    "        return self._age\n",
    "\n",
    "    @age.setter\n",
    "    def age(self, value):\n",
    "        self._age = value\n",
    "\n",
    "person = Person(\"Jagdish\", 30)\n",
    "print(person.name) \n",
    "print(person.age)\n",
    "\n",
    "person.name = \"Deepak\"\n",
    "person.age = 25\n",
    "print(person.name)\n",
    "print(person.age)\n",
    "\n"
   ]
  },
  {
   "cell_type": "markdown",
   "metadata": {},
   "source": [
    "I have noticed that many questions are repeated in the PDF document, Please kindly look into this issue. "
   ]
  }
 ],
 "metadata": {
  "kernelspec": {
   "display_name": "env",
   "language": "python",
   "name": "python3"
  },
  "language_info": {
   "codemirror_mode": {
    "name": "ipython",
    "version": 3
   },
   "file_extension": ".py",
   "mimetype": "text/x-python",
   "name": "python",
   "nbconvert_exporter": "python",
   "pygments_lexer": "ipython3",
   "version": "3.12.3"
  }
 },
 "nbformat": 4,
 "nbformat_minor": 2
}
